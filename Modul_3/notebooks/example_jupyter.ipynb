{
 "cells": [
  {
   "cell_type": "markdown",
   "metadata": {},
   "source": [
    "# Jupyter Notebook Beispiel\n",
    "\n",
    "- Das hier ist eine Text-Zelle geschrieben in [Markdown](https://github.com/adam-p/markdown-here/wiki/Markdown-Cheatsheet).\n",
    "- Mit einem Doppelklick in die Zelle, kannst Du den Text bearbeiten.\n",
    "- Mit einem Klick auf den `Run` Button oder mit der Tastenkombination `Strg`+`Enter` kannst Du Code in Zellen ausführen oder Markdown Text rendern.\n",
    "\n",
    "- Datum: 30.01.2025\n",
    "- Name: Lena Finger"
   ]
  },
  {
   "cell_type": "code",
   "execution_count": 4,
   "metadata": {},
   "outputs": [
    {
     "data": {
      "image/png": "[encoded data removed]",
      "text/plain": [
       "<Figure size 500x500 with 1 Axes>"
      ]
     },
     "metadata": {},
     "output_type": "display_data"
    }
   ],
   "source": [
    "# das hier ist eine Zelle mit Programmcode!\n",
    "\n",
    "# zuerst werden die benötgten libraries importiert\n",
    "import numpy as np\n",
    "import matplotlib.pyplot as plt\n",
    "import seaborn as sns\n",
    "\n",
    "# sns.set_theme() verschönert das Aussehen der plots\n",
    "sns.set_theme()\n",
    "\n",
    "# 100 normalverteilte Zahlen werden generiert\n",
    "random_numbers = np.random.normal(size = 100)\n",
    "\n",
    "# plot mit z.B. displot erstellen\n",
    "plot = sns.displot(random_numbers, color=\"red\")\n",
    "\n",
    "#Du kannst diese Programmcodezelle mehrmals ausführen und so werden \n",
    "#jedesmal unterschiedliche normalverteilte Zahlen generiert und entsprechend ändern sich die Plots."
   ]
  },
  {
   "cell_type": "code",
   "execution_count": 28,
   "metadata": {},
   "outputs": [],
   "source": [
    "# import the library and give it a shorter name 'np'\n",
    "import numpy as np\n",
    "\n",
    "# create 100 randomly distributed numbers\n",
    "X = np.random.normal(size=100)\n"
   ]
  },
  {
   "cell_type": "code",
   "execution_count": 30,
   "metadata": {
    "collapsed": true,
    "jupyter": {
     "outputs_hidden": true
    }
   },
   "outputs": [
    {
     "data": {
      "text/plain": [
       "array([ 0.28516292,  1.29938576, -1.33214825,  0.04131026, -0.87648131,\n",
       "        0.01906977, -0.63063274, -0.26666915, -1.09905567,  0.81457649,\n",
       "        1.67875569,  0.29561961,  2.38192869, -1.09067074, -1.05363455,\n",
       "        1.1248212 ,  0.61142303, -1.13009535,  1.42633956, -0.15884521,\n",
       "       -0.47629557, -2.14206913,  0.90469885, -0.47812245,  1.55548304,\n",
       "       -1.54451432, -0.42808022, -0.27328559, -1.32773579,  0.19431898,\n",
       "       -1.99649161,  0.19947619,  1.79129489, -1.28466297,  0.34018425,\n",
       "        1.51705218, -0.82134872,  0.93405107, -0.08617658,  1.5205524 ,\n",
       "        0.14236965, -0.29036456,  0.72202176,  0.45462185, -0.55517878,\n",
       "       -1.06175313,  0.48601399,  0.39549054,  0.4454975 ,  0.58675939,\n",
       "        1.65274165,  1.86414623, -0.42916011, -0.93431939, -0.65817986,\n",
       "       -0.14485766, -1.15030314, -0.05253086, -0.19609881,  0.10401789,\n",
       "        0.37460272,  1.439789  , -0.1490306 ,  1.36414749,  0.54133897,\n",
       "       -0.76032062, -0.57866193, -0.0101169 , -0.11843342,  1.80534184,\n",
       "       -0.49112662, -1.35639422,  0.5545429 , -0.4298167 , -0.35283758,\n",
       "        0.61896597, -0.76239443, -2.02322028,  0.04785657,  2.41619706,\n",
       "       -0.44155193, -0.84178204, -0.39223636, -0.75581551,  1.07446648,\n",
       "       -0.81916036,  0.35489354,  0.86796941, -0.66523316, -0.2110758 ,\n",
       "        0.17313465, -0.05646051,  0.41045839,  0.91875182, -0.30042484,\n",
       "        0.47392163,  0.45771862, -1.5849654 , -0.27131852, -1.57481383])"
      ]
     },
     "execution_count": 30,
     "metadata": {},
     "output_type": "execute_result"
    }
   ],
   "source": [
    "X"
   ]
  },
  {
   "cell_type": "code",
   "execution_count": 22,
   "metadata": {
    "collapsed": true,
    "jupyter": {
     "outputs_hidden": true
    }
   },
   "outputs": [
    {
     "data": {
      "text/plain": [
       "array([[ 0.12197998, -1.11269502, -0.70510709, -1.22483632,  0.98493557],\n",
       "       [-0.13338692,  1.16836132, -0.41062767, -0.96378432,  1.07075356],\n",
       "       [-0.21511474, -0.34364775, -0.38891535, -0.31879191,  0.93796827],\n",
       "       [ 0.07771788, -0.94763664,  0.68902244, -0.39326799,  3.28119277],\n",
       "       [ 0.43319924, -1.54653167,  1.91382833, -2.34253095, -1.24369588],\n",
       "       [ 0.98905888,  0.35379398,  1.65990055,  0.2437298 , -0.52219466],\n",
       "       [ 0.67154164, -2.39253327,  0.16451167, -1.47970785,  0.79194309],\n",
       "       [-0.77563458, -1.14595368, -0.01877012, -1.26025129, -0.56018601],\n",
       "       [ 0.47411188, -0.97211792,  0.592731  , -0.78945249, -0.1526747 ],\n",
       "       [-0.71711337,  0.6371458 , -0.46625258,  0.87080573, -0.53103483],\n",
       "       [-0.83130566,  0.03504724, -0.52207383, -0.07063371, -1.08983053],\n",
       "       [ 1.5555153 ,  0.37681778,  0.14309925, -0.90337052,  0.36743614],\n",
       "       [-0.71884821, -0.54586733, -0.45342931,  0.81313403,  0.94627586],\n",
       "       [-1.55828803, -0.08673703, -0.27257085,  0.54557916,  0.50639174],\n",
       "       [-1.0219336 , -1.93062487,  0.71743535,  1.32138063, -0.53798961],\n",
       "       [-0.55208257, -0.57492161,  1.07167076,  0.76633188,  0.58424609],\n",
       "       [-1.19486346, -0.92444632, -0.92346   ,  1.47125899, -0.48011954],\n",
       "       [-0.85593161, -1.24248156, -1.32308422,  1.12242394,  0.20285375],\n",
       "       [ 0.81104499, -0.20094163, -1.83521431, -1.20707645,  0.34173813],\n",
       "       [-0.53948364, -0.35271187, -0.92860652, -0.17130565, -0.22516843]])"
      ]
     },
     "execution_count": 22,
     "metadata": {},
     "output_type": "execute_result"
    }
   ],
   "source": [
    "# transform X into a 2-dimensional array of size 20x5\n",
    "X.reshape((20,5))\n"
   ]
  },
  {
   "cell_type": "code",
   "execution_count": 10,
   "metadata": {},
   "outputs": [
    {
     "data": {
      "text/plain": [
       "88.398191436815"
      ]
     },
     "execution_count": 10,
     "metadata": {},
     "output_type": "execute_result"
    }
   ],
   "source": [
    "# calculate the matrix dot product: X*X', where X' is the transpose of X\n",
    "X.dot(X.T)"
   ]
  },
  {
   "cell_type": "code",
   "execution_count": 38,
   "metadata": {},
   "outputs": [],
   "source": [
    "test = np.random.normal(size=4).astype(int)"
   ]
  },
  {
   "cell_type": "code",
   "execution_count": 40,
   "metadata": {},
   "outputs": [
    {
     "data": {
      "text/plain": [
       "array([[ 0,  1],\n",
       "       [ 2, -1]])"
      ]
     },
     "execution_count": 40,
     "metadata": {},
     "output_type": "execute_result"
    }
   ],
   "source": [
    "test.reshape((2,2))"
   ]
  },
  {
   "cell_type": "code",
   "execution_count": 42,
   "metadata": {},
   "outputs": [
    {
     "data": {
      "text/plain": [
       "6"
      ]
     },
     "execution_count": 42,
     "metadata": {},
     "output_type": "execute_result"
    }
   ],
   "source": [
    "test.dot(test.T)"
   ]
  },
  {
   "cell_type": "code",
   "execution_count": null,
   "metadata": {},
   "outputs": [],
   "source": []
  }
 ],
 "metadata": {
  "kernelspec": {
   "display_name": "Python [conda env:base] *",
   "language": "python",
   "name": "conda-base-py"
  },
  "language_info": {
   "codemirror_mode": {
    "name": "ipython",
    "version": 3
   },
   "file_extension": ".py",
   "mimetype": "text/x-python",
   "name": "python",
   "nbconvert_exporter": "python",
   "pygments_lexer": "ipython3",
   "version": "3.12.7"
  }
 },
 "nbformat": 4,
 "nbformat_minor": 4
}
