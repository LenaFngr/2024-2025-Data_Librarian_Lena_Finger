{
 "cells": [
  {
   "cell_type": "markdown",
   "id": "eddaca53-ad1e-48f4-af15-fa9cca7b27ab",
   "metadata": {},
   "source": [
    "### Daten importieren"
   ]
  },
  {
   "cell_type": "code",
   "execution_count": 2,
   "id": "4ade461a-0c49-4f5b-ada2-3b2edfb0eba2",
   "metadata": {},
   "outputs": [],
   "source": [
    "import pandas as pd"
   ]
  },
  {
   "cell_type": "code",
   "execution_count": 12,
   "id": "2b22cd65-bcee-42ec-93f8-2aa964e65118",
   "metadata": {},
   "outputs": [],
   "source": [
    "df = pd.read_csv(\"../data/Library_Usage.csv\", low_memory = False)"
   ]
  },
  {
   "cell_type": "code",
   "execution_count": 14,
   "id": "4891f94e-1efd-4724-9658-cce946864290",
   "metadata": {},
   "outputs": [
    {
     "data": {
      "text/html": [
       "<div>\n",
       "<style scoped>\n",
       "    .dataframe tbody tr th:only-of-type {\n",
       "        vertical-align: middle;\n",
       "    }\n",
       "\n",
       "    .dataframe tbody tr th {\n",
       "        vertical-align: top;\n",
       "    }\n",
       "\n",
       "    .dataframe thead th {\n",
       "        text-align: right;\n",
       "    }\n",
       "</style>\n",
       "<table border=\"1\" class=\"dataframe\">\n",
       "  <thead>\n",
       "    <tr style=\"text-align: right;\">\n",
       "      <th></th>\n",
       "      <th>Patron Type Definition</th>\n",
       "      <th>Total Checkouts</th>\n",
       "      <th>Total Renewals</th>\n",
       "      <th>Age Range</th>\n",
       "      <th>Home Library Definition</th>\n",
       "      <th>Circulation Active Month</th>\n",
       "      <th>Circulation Active Year</th>\n",
       "      <th>Notice Preference Definition</th>\n",
       "      <th>Provided Email Address</th>\n",
       "      <th>Year Patron Registered</th>\n",
       "      <th>Within San Francisco County</th>\n",
       "    </tr>\n",
       "  </thead>\n",
       "  <tbody>\n",
       "    <tr>\n",
       "      <th>0</th>\n",
       "      <td>Senior</td>\n",
       "      <td>5</td>\n",
       "      <td>0</td>\n",
       "      <td>75 years and over</td>\n",
       "      <td>Main</td>\n",
       "      <td>Nov</td>\n",
       "      <td>2022</td>\n",
       "      <td>Email</td>\n",
       "      <td>True</td>\n",
       "      <td>2015</td>\n",
       "      <td>False</td>\n",
       "    </tr>\n",
       "    <tr>\n",
       "      <th>1</th>\n",
       "      <td>Adult</td>\n",
       "      <td>0</td>\n",
       "      <td>0</td>\n",
       "      <td>45 to 54 years</td>\n",
       "      <td>Main</td>\n",
       "      <td>Jul</td>\n",
       "      <td>2023</td>\n",
       "      <td>Email</td>\n",
       "      <td>True</td>\n",
       "      <td>2019</td>\n",
       "      <td>False</td>\n",
       "    </tr>\n",
       "    <tr>\n",
       "      <th>2</th>\n",
       "      <td>Adult</td>\n",
       "      <td>0</td>\n",
       "      <td>0</td>\n",
       "      <td>55 to 59 years</td>\n",
       "      <td>Western Addition</td>\n",
       "      <td>Mar</td>\n",
       "      <td>2024</td>\n",
       "      <td>Email</td>\n",
       "      <td>True</td>\n",
       "      <td>2022</td>\n",
       "      <td>False</td>\n",
       "    </tr>\n",
       "    <tr>\n",
       "      <th>3</th>\n",
       "      <td>Welcome</td>\n",
       "      <td>1</td>\n",
       "      <td>1</td>\n",
       "      <td>20 to 24 years</td>\n",
       "      <td>Richmond</td>\n",
       "      <td>Aug</td>\n",
       "      <td>2022</td>\n",
       "      <td>Email</td>\n",
       "      <td>True</td>\n",
       "      <td>2022</td>\n",
       "      <td>False</td>\n",
       "    </tr>\n",
       "    <tr>\n",
       "      <th>4</th>\n",
       "      <td>Senior</td>\n",
       "      <td>0</td>\n",
       "      <td>0</td>\n",
       "      <td>65 to 74 years</td>\n",
       "      <td>Sunset</td>\n",
       "      <td>Mar</td>\n",
       "      <td>2024</td>\n",
       "      <td>Print</td>\n",
       "      <td>False</td>\n",
       "      <td>2023</td>\n",
       "      <td>False</td>\n",
       "    </tr>\n",
       "    <tr>\n",
       "      <th>...</th>\n",
       "      <td>...</td>\n",
       "      <td>...</td>\n",
       "      <td>...</td>\n",
       "      <td>...</td>\n",
       "      <td>...</td>\n",
       "      <td>...</td>\n",
       "      <td>...</td>\n",
       "      <td>...</td>\n",
       "      <td>...</td>\n",
       "      <td>...</td>\n",
       "      <td>...</td>\n",
       "    </tr>\n",
       "    <tr>\n",
       "      <th>450354</th>\n",
       "      <td>Digital Access Card</td>\n",
       "      <td>0</td>\n",
       "      <td>0</td>\n",
       "      <td>35 to 44 years</td>\n",
       "      <td>Ingleside</td>\n",
       "      <td>Null</td>\n",
       "      <td>Null</td>\n",
       "      <td>Email</td>\n",
       "      <td>False</td>\n",
       "      <td>2023</td>\n",
       "      <td>Null</td>\n",
       "    </tr>\n",
       "    <tr>\n",
       "      <th>450355</th>\n",
       "      <td>Digital Access Card</td>\n",
       "      <td>0</td>\n",
       "      <td>0</td>\n",
       "      <td>45 to 54 years</td>\n",
       "      <td>Ingleside</td>\n",
       "      <td>Aug</td>\n",
       "      <td>2022</td>\n",
       "      <td>Print</td>\n",
       "      <td>False</td>\n",
       "      <td>2022</td>\n",
       "      <td>Null</td>\n",
       "    </tr>\n",
       "    <tr>\n",
       "      <th>450356</th>\n",
       "      <td>Digital Access Card</td>\n",
       "      <td>0</td>\n",
       "      <td>0</td>\n",
       "      <td>25 to 34 years</td>\n",
       "      <td>Ingleside</td>\n",
       "      <td>Aug</td>\n",
       "      <td>2022</td>\n",
       "      <td>Print</td>\n",
       "      <td>False</td>\n",
       "      <td>2022</td>\n",
       "      <td>Null</td>\n",
       "    </tr>\n",
       "    <tr>\n",
       "      <th>450357</th>\n",
       "      <td>Digital Access Card</td>\n",
       "      <td>0</td>\n",
       "      <td>0</td>\n",
       "      <td>35 to 44 years</td>\n",
       "      <td>Ingleside</td>\n",
       "      <td>Apr</td>\n",
       "      <td>2022</td>\n",
       "      <td>Print</td>\n",
       "      <td>False</td>\n",
       "      <td>2022</td>\n",
       "      <td>Null</td>\n",
       "    </tr>\n",
       "    <tr>\n",
       "      <th>450358</th>\n",
       "      <td>Digital Access Card</td>\n",
       "      <td>0</td>\n",
       "      <td>0</td>\n",
       "      <td>65 to 74 years</td>\n",
       "      <td>Bayview</td>\n",
       "      <td>Apr</td>\n",
       "      <td>2023</td>\n",
       "      <td>Email</td>\n",
       "      <td>False</td>\n",
       "      <td>2023</td>\n",
       "      <td>Null</td>\n",
       "    </tr>\n",
       "  </tbody>\n",
       "</table>\n",
       "<p>450359 rows × 11 columns</p>\n",
       "</div>"
      ],
      "text/plain": [
       "       Patron Type Definition  Total Checkouts  Total Renewals  \\\n",
       "0                      Senior                5               0   \n",
       "1                       Adult                0               0   \n",
       "2                       Adult                0               0   \n",
       "3                     Welcome                1               1   \n",
       "4                      Senior                0               0   \n",
       "...                       ...              ...             ...   \n",
       "450354    Digital Access Card                0               0   \n",
       "450355    Digital Access Card                0               0   \n",
       "450356    Digital Access Card                0               0   \n",
       "450357    Digital Access Card                0               0   \n",
       "450358    Digital Access Card                0               0   \n",
       "\n",
       "                Age Range Home Library Definition Circulation Active Month  \\\n",
       "0       75 years and over                    Main                      Nov   \n",
       "1          45 to 54 years                    Main                      Jul   \n",
       "2          55 to 59 years        Western Addition                      Mar   \n",
       "3          20 to 24 years                Richmond                      Aug   \n",
       "4          65 to 74 years                  Sunset                      Mar   \n",
       "...                   ...                     ...                      ...   \n",
       "450354     35 to 44 years               Ingleside                     Null   \n",
       "450355     45 to 54 years               Ingleside                      Aug   \n",
       "450356     25 to 34 years               Ingleside                      Aug   \n",
       "450357     35 to 44 years               Ingleside                      Apr   \n",
       "450358     65 to 74 years                 Bayview                      Apr   \n",
       "\n",
       "       Circulation Active Year Notice Preference Definition  \\\n",
       "0                         2022                        Email   \n",
       "1                         2023                        Email   \n",
       "2                         2024                        Email   \n",
       "3                         2022                        Email   \n",
       "4                         2024                        Print   \n",
       "...                        ...                          ...   \n",
       "450354                    Null                        Email   \n",
       "450355                    2022                        Print   \n",
       "450356                    2022                        Print   \n",
       "450357                    2022                        Print   \n",
       "450358                    2023                        Email   \n",
       "\n",
       "        Provided Email Address  Year Patron Registered  \\\n",
       "0                         True                    2015   \n",
       "1                         True                    2019   \n",
       "2                         True                    2022   \n",
       "3                         True                    2022   \n",
       "4                        False                    2023   \n",
       "...                        ...                     ...   \n",
       "450354                   False                    2023   \n",
       "450355                   False                    2022   \n",
       "450356                   False                    2022   \n",
       "450357                   False                    2022   \n",
       "450358                   False                    2023   \n",
       "\n",
       "       Within San Francisco County  \n",
       "0                            False  \n",
       "1                            False  \n",
       "2                            False  \n",
       "3                            False  \n",
       "4                            False  \n",
       "...                            ...  \n",
       "450354                        Null  \n",
       "450355                        Null  \n",
       "450356                        Null  \n",
       "450357                        Null  \n",
       "450358                        Null  \n",
       "\n",
       "[450359 rows x 11 columns]"
      ]
     },
     "execution_count": 14,
     "metadata": {},
     "output_type": "execute_result"
    }
   ],
   "source": [
    "df"
   ]
  },
  {
   "cell_type": "markdown",
   "id": "12a3f4e7-e531-4ac1-b8e2-3a4986030586",
   "metadata": {},
   "source": [
    "### 1. Wie viele Merkmale besitzt der Datensatz?\n",
    "11 Variablen im Datensatz (11 columns)\n",
    "alternativ: Befehl len(df.columns)\n",
    "### 2. Wie groß ist die Stichprobengröße des Datensatzes?\n",
    "450359 statistische Einheiten enthalten (450359 rows)\n",
    "alternativ: Befehl len(df)\n",
    "### 3. wer oder was sind die Merkmalsträger?\n",
    "Kunden der san Francisco Library (siehe Datensatzbeschreibung im Netz)\n"
   ]
  },
  {
   "cell_type": "code",
   "execution_count": null,
   "id": "456f46b1-73ba-4f2c-8e57-620ec4e755d3",
   "metadata": {},
   "outputs": [],
   "source": [
    "# 4. Von wann bis wann wurden Daten erhoben?"
   ]
  },
  {
   "cell_type": "code",
   "execution_count": 26,
   "id": "116b463e-1fa5-4378-8295-44fa2ee3034a",
   "metadata": {},
   "outputs": [
    {
     "data": {
      "text/plain": [
       "array([2015, 2019, 2022, 2023, 2009, 2018, 2016, 2020, 2014, 2003, 2017,\n",
       "       2006, 2012, 2011, 2008, 2021, 2013, 2010, 2007, 2004, 2005])"
      ]
     },
     "execution_count": 26,
     "metadata": {},
     "output_type": "execute_result"
    }
   ],
   "source": [
    "# 4. Von wann bis wann wurden Daten erhoben?\n",
    "\n",
    "df['Year Patron Registered'].unique()\n",
    "\n",
    "# Daten von 2003 bis 2023 enthalten"
   ]
  },
  {
   "cell_type": "markdown",
   "id": "55c5394d-1179-4010-a7f9-2987cc9631f9",
   "metadata": {},
   "source": [
    "### 5. wie lässt sich die grundgesamtheit beschreiben? Ist es vollerhebung?\n",
    "grundgesamtheit: alle kunden der san Francisco Library\n",
    "\n",
    "Vollerhebung? vermutlich ja (siehe Datensatzbeschreibung im Netz -> dataset represents usage of items by active patrons)\n",
    "\n",
    "### 6. Welche Merkmalse sind stetig/diskret?\n",
    "alle variablen sind diskret, d.h. die Ausprägungen sind endlich oder abzählbar unendlich (ganzzahlig)\n",
    "\n",
    "vs. Musterlösung: Total checkouts und Total Renewals sind nicht stetig(kontinuierlich), da immer nur ganzzahlig (abzählbar): man kann nicht 1,3 oder 2,55 Bücher ausleihen, sondern nur ein, zwei oder drei Bücher etc."
   ]
  },
  {
   "cell_type": "code",
   "execution_count": 35,
   "id": "bfe0043a-b57e-4613-9d57-844a18ba027f",
   "metadata": {},
   "outputs": [
    {
     "data": {
      "text/plain": [
       "Total Checkouts\n",
       "0       147115\n",
       "1        23564\n",
       "2        15991\n",
       "3        12576\n",
       "4        10033\n",
       "         ...  \n",
       "9371         1\n",
       "4891         1\n",
       "4060         1\n",
       "5919         1\n",
       "6084         1\n",
       "Name: count, Length: 4848, dtype: int64"
      ]
     },
     "execution_count": 35,
     "metadata": {},
     "output_type": "execute_result"
    }
   ],
   "source": [
    "df['Total Checkouts'].value_counts()"
   ]
  },
  {
   "cell_type": "code",
   "execution_count": 37,
   "id": "6afbf5e8-75e8-46e5-ace5-9718d73469ad",
   "metadata": {},
   "outputs": [
    {
     "data": {
      "text/plain": [
       "Total Renewals\n",
       "0       188685\n",
       "1        13040\n",
       "3        12637\n",
       "2        11406\n",
       "6         8834\n",
       "         ...  \n",
       "2899         1\n",
       "2990         1\n",
       "4609         1\n",
       "4282         1\n",
       "1592         1\n",
       "Name: count, Length: 3403, dtype: int64"
      ]
     },
     "execution_count": 37,
     "metadata": {},
     "output_type": "execute_result"
    }
   ],
   "source": [
    "df['Total Renewals'].value_counts()"
   ]
  },
  {
   "cell_type": "markdown",
   "id": "ddd25b3b-995e-4204-8c00-a0a714cff03e",
   "metadata": {},
   "source": [
    "### 7. Welches Skalenniveau liegt jeweils vor?\n",
    "Nominal: Patron Type Definition, Home Library Definition, Circulation Active Month, Notice Preference Definition, Provided Email Address, Within San Franciso County\n",
    "\n",
    "Ordinal: Age Range\n",
    "\n",
    "Metrisch: Total Checkouts, Total Renewals, Circulation Active Year, Year Patron Registered"
   ]
  },
  {
   "cell_type": "markdown",
   "id": "861d296a-3f91-4450-9ad9-dc67b963fd52",
   "metadata": {},
   "source": [
    "### 8. enthält der Datensatz fehlende Werte?\n",
    "Nein, siehe nächste Zeilen"
   ]
  },
  {
   "cell_type": "code",
   "execution_count": 42,
   "id": "893b82f6-ea58-4adc-8bd4-0550df3d4943",
   "metadata": {},
   "outputs": [
    {
     "data": {
      "text/plain": [
       "Patron Type Definition          0\n",
       "Total Checkouts                 0\n",
       "Total Renewals                  0\n",
       "Age Range                       0\n",
       "Home Library Definition         0\n",
       "Circulation Active Month        0\n",
       "Circulation Active Year         0\n",
       "Notice Preference Definition    0\n",
       "Provided Email Address          0\n",
       "Year Patron Registered          0\n",
       "Within San Francisco County     0\n",
       "dtype: int64"
      ]
     },
     "execution_count": 42,
     "metadata": {},
     "output_type": "execute_result"
    }
   ],
   "source": [
    "df.isnull().sum()"
   ]
  },
  {
   "cell_type": "markdown",
   "id": "2f018c52-bb98-4395-9d05-96d0da163ebd",
   "metadata": {},
   "source": [
    "### 9. Sind es Querschnitts-, Längsschnitt- oder Paneldaten?\n",
    "Querschnittsdaten, da jeder Kunde nur einmal im Datensatz vorkommt und nicht etwa für jedes Jahr eine individuelle Nutzerstatistik aufgestellt wird, sondern die gesamtzahl aller Nutzungen bzw. Ausleihen im zu einem bestimmten Zeitpunk"
   ]
  },
  {
   "cell_type": "code",
   "execution_count": null,
   "id": "040af7ee-47a4-447b-bf32-44426b7df007",
   "metadata": {},
   "outputs": [],
   "source": []
  }
 ],
 "metadata": {
  "kernelspec": {
   "display_name": "Python [conda env:base] *",
   "language": "python",
   "name": "conda-base-py"
  },
  "language_info": {
   "codemirror_mode": {
    "name": "ipython",
    "version": 3
   },
   "file_extension": ".py",
   "mimetype": "text/x-python",
   "name": "python",
   "nbconvert_exporter": "python",
   "pygments_lexer": "ipython3",
   "version": "3.12.7"
  }
 },
 "nbformat": 4,
 "nbformat_minor": 5
}
