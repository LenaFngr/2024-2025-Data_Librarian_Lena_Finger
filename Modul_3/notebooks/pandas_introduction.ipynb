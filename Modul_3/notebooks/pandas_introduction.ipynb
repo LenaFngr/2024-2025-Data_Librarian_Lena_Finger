{
 "cells": [
  {
   "cell_type": "markdown",
   "id": "8abe6783-f326-4603-8c5b-5e506b50ebde",
   "metadata": {},
   "source": [
    "### Series und DataFrames \n",
    "\n",
    "Series und DataFrames sind die zentralen Datenstrukturen in Pandas. Series sind wie standardmäßige Listen in Python, mit dem wichtigen Unterschied, dass Series nur Werte eines einzelnen Datentyps enthalten können.\n",
    "\n",
    "Ein Datentyp ist die grundlegende Einheit, in der einzelne Werte in einer Programmiersprache vom Computer gespeichert und verarbeitet werden können. Beispiele für Datentypen in pandas sind: float für Gleitkommazahlen, int für Ganzzahlen, bool für binäre True, False Werte oder datetime für Datumswerte. Text wird im pandas-spezifischen Format object abgespeichert. Für einen DataFrame der beispielsweise in einer Variable mit dem Namen df gepeichert ist, kannst Du Dir die Datentypen jeder Spalte mit df.dtypes ausgeben lassen."
   ]
  },
  {
   "cell_type": "code",
   "execution_count": 1,
   "id": "c00674f8-b08c-4bbd-9bb3-a80a4dbdbd0e",
   "metadata": {},
   "outputs": [
    {
     "name": "stdout",
     "output_type": "stream",
     "text": [
      "0    34\n",
      "1    12\n",
      "2    23\n",
      "3    45\n",
      "dtype: int64\n"
     ]
    },
    {
     "data": {
      "text/plain": [
       "dtype('int64')"
      ]
     },
     "execution_count": 1,
     "metadata": {},
     "output_type": "execute_result"
    }
   ],
   "source": [
    "import pandas as pd\n",
    "x = pd.Series([34, 12, 23, 45])\n",
    "print(x)\n",
    "x.dtype"
   ]
  },
  {
   "cell_type": "code",
   "execution_count": 3,
   "id": "49809d46-5c43-49b2-b4dd-f02678fec414",
   "metadata": {},
   "outputs": [
    {
     "name": "stdout",
     "output_type": "stream",
     "text": [
      "  month  temp  below_zero\n",
      "0   Jan    -5        True\n",
      "1   Feb     2       False\n",
      "2   Mar     3       False\n"
     ]
    }
   ],
   "source": [
    "import pandas as pd\n",
    "data = {'month': ['Jan', 'Feb', 'Mar'],\n",
    "        'temp': [-5, 2, 3],\n",
    "         'below_zero': [True, False, False]}\n",
    "df = pd.DataFrame(data)\n",
    "print(df)"
   ]
  },
  {
   "cell_type": "markdown",
   "id": "458f5823-56fa-456b-85de-2e3c873ea484",
   "metadata": {},
   "source": [
    "### Welches Skalennivelau liegt jeweils vor?\n",
    "month: ordinal\n",
    "temp: metrisch\n",
    "below_zero: nominal\n",
    "\n",
    "### sind die Variablen stetig oder diskret?\n",
    "month: diskret\n",
    "temp: hier diskret, können aber auch stetig sein bei genauerer Messung zb im Kommabereich\n",
    "below_zero: diskret\n",
    "\n",
    "### was ist jeweils der Datentyp?\n",
    "month: object, Strings oder Textdaten\n",
    "temp: int64, ganzzahlige Werte\n",
    "below_zeor: bool, binäre Werte (True/False)\n",
    "\n",
    "siehe nächste Zeilen"
   ]
  },
  {
   "cell_type": "code",
   "execution_count": 10,
   "id": "a18a41aa-f1db-4170-8a7e-13d56f6cddee",
   "metadata": {},
   "outputs": [
    {
     "name": "stdout",
     "output_type": "stream",
     "text": [
      "month         object\n",
      "temp           int64\n",
      "below_zero      bool\n",
      "dtype: object\n"
     ]
    }
   ],
   "source": [
    "print(df.dtypes)"
   ]
  },
  {
   "cell_type": "markdown",
   "id": "f7e5e9fb-932a-4f93-8da1-0f39e9a21212",
   "metadata": {},
   "source": [
    "### Erweiterung des Datensatzes\n",
    "1) neue Zeile einfügen\n",
    "2) neue Spalte einfügen"
   ]
  },
  {
   "cell_type": "code",
   "execution_count": 14,
   "id": "a5be89a2-2996-4bbc-9ab9-631fd1ef054d",
   "metadata": {},
   "outputs": [
    {
     "name": "stdout",
     "output_type": "stream",
     "text": [
      "  month  temp  below_zero\n",
      "0   Jan    -5        True\n",
      "1   Feb     2       False\n",
      "2   Mar     3       False\n",
      "3   Apr     5       False\n"
     ]
    }
   ],
   "source": [
    "data = {'month': ['Jan', 'Feb', 'Mar', 'Apr'],\n",
    "        'temp': [-5, 2, 3, 5],\n",
    "         'below_zero': [True, False, False, False]}\n",
    "df = pd.DataFrame(data)\n",
    "print(df)"
   ]
  },
  {
   "cell_type": "code",
   "execution_count": 20,
   "id": "9221fcfc-e156-4786-a9e5-5e7f551d9739",
   "metadata": {},
   "outputs": [
    {
     "name": "stdout",
     "output_type": "stream",
     "text": [
      "  month  temp  below_zero  year\n",
      "0   Jan    -5        True  2020\n",
      "1   Feb     2       False  2020\n",
      "2   Mar     3       False  2020\n",
      "3   Apr     5       False  2020\n"
     ]
    }
   ],
   "source": [
    "data = {'month': ['Jan', 'Feb', 'Mar', 'Apr'],\n",
    "        'temp': [-5, 2, 3, 5],\n",
    "         'below_zero': [True, False, False, False]}\n",
    "df = pd.DataFrame(data)\n",
    "df['year'] = 2020\n",
    "print(df)\n",
    "\n",
    "\n",
    "# alternative: \n",
    "# data = {'month': ['Jan', 'Feb', 'Mar', 'Apr'],\n",
    "#         'year': ['2020','2020', '2020', '2020'],\n",
    "#         'temp': [-5, 2, 3, 5],\n",
    "#         'below_zero': [True, False, False, False]}\n",
    "# df = pd.DataFrame(data)\n",
    "# print(df)"
   ]
  },
  {
   "cell_type": "markdown",
   "id": "ec05a2e4-8708-43c7-ae1d-8fb531a914b1",
   "metadata": {},
   "source": [
    "### Ein- und Ausgabe\n",
    "Die Funktionen zur Ein- und Ausgabe von Daten in pandas sind umfangreich aber systematisch organisiert. Um beispielsweise eine .csv Datei einzulesen und in einer Variable zu speichern verwendet man die Funktion read_csv.\n",
    "Um einen eingelesenen Datensatz beispielsweise im .json Textformat zu speichern verwendet man die Funktion to_json\n",
    "\n",
    "Manche Funktion aus dem pandas Paket sind statische Funktionen: Sie sind an kein konkretes Objekt gebunden, sondern werden über den Bibliotheksnamen pd aufgerufen. Beispiele: pd.read_csv, pd.to_numeric, pd.crosstab.\n",
    "\n",
    "Andere Funktionen sind an ein bestimmtes Objekt, welches mit einer Variable referenziert wird, gebunden. In der Regel ist dies ein DataFrame oder eine Series. Beispiele: df.to_csv, df.corr, df.head, x.mean."
   ]
  },
  {
   "cell_type": "code",
   "execution_count": 23,
   "id": "54f1b451-1d15-4eaa-a0b5-6b51c31d9a9e",
   "metadata": {},
   "outputs": [
    {
     "name": "stderr",
     "output_type": "stream",
     "text": [
      "/tmp/ipykernel_17576/1714274953.py:2: DtypeWarning: Columns (10) have mixed types. Specify dtype option on import or set low_memory=False.\n",
      "  df = pd.read_csv(\"../data/Library_Usage.csv\")\n"
     ]
    },
    {
     "data": {
      "text/html": [
       "<div>\n",
       "<style scoped>\n",
       "    .dataframe tbody tr th:only-of-type {\n",
       "        vertical-align: middle;\n",
       "    }\n",
       "\n",
       "    .dataframe tbody tr th {\n",
       "        vertical-align: top;\n",
       "    }\n",
       "\n",
       "    .dataframe thead th {\n",
       "        text-align: right;\n",
       "    }\n",
       "</style>\n",
       "<table border=\"1\" class=\"dataframe\">\n",
       "  <thead>\n",
       "    <tr style=\"text-align: right;\">\n",
       "      <th></th>\n",
       "      <th>Patron Type Definition</th>\n",
       "      <th>Total Checkouts</th>\n",
       "      <th>Total Renewals</th>\n",
       "      <th>Age Range</th>\n",
       "      <th>Home Library Definition</th>\n",
       "      <th>Circulation Active Month</th>\n",
       "      <th>Circulation Active Year</th>\n",
       "      <th>Notice Preference Definition</th>\n",
       "      <th>Provided Email Address</th>\n",
       "      <th>Year Patron Registered</th>\n",
       "      <th>Within San Francisco County</th>\n",
       "    </tr>\n",
       "  </thead>\n",
       "  <tbody>\n",
       "    <tr>\n",
       "      <th>0</th>\n",
       "      <td>Senior</td>\n",
       "      <td>5</td>\n",
       "      <td>0</td>\n",
       "      <td>75 years and over</td>\n",
       "      <td>Main</td>\n",
       "      <td>Nov</td>\n",
       "      <td>2022</td>\n",
       "      <td>Email</td>\n",
       "      <td>True</td>\n",
       "      <td>2015</td>\n",
       "      <td>False</td>\n",
       "    </tr>\n",
       "    <tr>\n",
       "      <th>1</th>\n",
       "      <td>Adult</td>\n",
       "      <td>0</td>\n",
       "      <td>0</td>\n",
       "      <td>45 to 54 years</td>\n",
       "      <td>Main</td>\n",
       "      <td>Jul</td>\n",
       "      <td>2023</td>\n",
       "      <td>Email</td>\n",
       "      <td>True</td>\n",
       "      <td>2019</td>\n",
       "      <td>False</td>\n",
       "    </tr>\n",
       "    <tr>\n",
       "      <th>2</th>\n",
       "      <td>Adult</td>\n",
       "      <td>0</td>\n",
       "      <td>0</td>\n",
       "      <td>55 to 59 years</td>\n",
       "      <td>Western Addition</td>\n",
       "      <td>Mar</td>\n",
       "      <td>2024</td>\n",
       "      <td>Email</td>\n",
       "      <td>True</td>\n",
       "      <td>2022</td>\n",
       "      <td>False</td>\n",
       "    </tr>\n",
       "    <tr>\n",
       "      <th>3</th>\n",
       "      <td>Welcome</td>\n",
       "      <td>1</td>\n",
       "      <td>1</td>\n",
       "      <td>20 to 24 years</td>\n",
       "      <td>Richmond</td>\n",
       "      <td>Aug</td>\n",
       "      <td>2022</td>\n",
       "      <td>Email</td>\n",
       "      <td>True</td>\n",
       "      <td>2022</td>\n",
       "      <td>False</td>\n",
       "    </tr>\n",
       "    <tr>\n",
       "      <th>4</th>\n",
       "      <td>Senior</td>\n",
       "      <td>0</td>\n",
       "      <td>0</td>\n",
       "      <td>65 to 74 years</td>\n",
       "      <td>Sunset</td>\n",
       "      <td>Mar</td>\n",
       "      <td>2024</td>\n",
       "      <td>Print</td>\n",
       "      <td>False</td>\n",
       "      <td>2023</td>\n",
       "      <td>False</td>\n",
       "    </tr>\n",
       "  </tbody>\n",
       "</table>\n",
       "</div>"
      ],
      "text/plain": [
       "  Patron Type Definition  Total Checkouts  Total Renewals          Age Range  \\\n",
       "0                 Senior                5               0  75 years and over   \n",
       "1                  Adult                0               0     45 to 54 years   \n",
       "2                  Adult                0               0     55 to 59 years   \n",
       "3                Welcome                1               1     20 to 24 years   \n",
       "4                 Senior                0               0     65 to 74 years   \n",
       "\n",
       "  Home Library Definition Circulation Active Month Circulation Active Year  \\\n",
       "0                    Main                      Nov                    2022   \n",
       "1                    Main                      Jul                    2023   \n",
       "2        Western Addition                      Mar                    2024   \n",
       "3                Richmond                      Aug                    2022   \n",
       "4                  Sunset                      Mar                    2024   \n",
       "\n",
       "  Notice Preference Definition  Provided Email Address  \\\n",
       "0                        Email                    True   \n",
       "1                        Email                    True   \n",
       "2                        Email                    True   \n",
       "3                        Email                    True   \n",
       "4                        Print                   False   \n",
       "\n",
       "   Year Patron Registered Within San Francisco County  \n",
       "0                    2015                       False  \n",
       "1                    2019                       False  \n",
       "2                    2022                       False  \n",
       "3                    2022                       False  \n",
       "4                    2023                       False  "
      ]
     },
     "execution_count": 23,
     "metadata": {},
     "output_type": "execute_result"
    }
   ],
   "source": [
    "import pandas as pd\n",
    "df = pd.read_csv(\"../data/Library_Usage.csv\")\n",
    "df.head()"
   ]
  },
  {
   "cell_type": "code",
   "execution_count": 25,
   "id": "01b4de8b-6714-41a9-b8e6-9289b7afb71c",
   "metadata": {},
   "outputs": [],
   "source": [
    "df.to_json(\"../data/Library_Usage.json\")"
   ]
  },
  {
   "cell_type": "markdown",
   "id": "354623be-aa19-494b-8d0c-1040c2cc7ae7",
   "metadata": {},
   "source": [
    "### Auswahl und Erstellung von Spalten\n",
    "Die Spalten eines DataFrames werden über einen Spaltenindex referenziert. Üblicherweise besteht der Spaltenindex aus Spaltennamen in Textform.\n",
    "\n",
    "Einzelne Series können wie bei einem Python Dictionary mit df[<name>] extrahiert werden. Mehre Spalten mit df[[name1, name2]]. Wenn Du Spalten mit der doppelten Liste [[...]] auswählst, erhältst Du in jedem Fall wieder einen DataFrame zurück. Das Ergebnis der Auswahl kannst Du bei Bedarf wieder in einer Variablen abspeichern.\n",
    "\n",
    "Spalten können mit einer Zuweisung (=) überschrieben oder neu erstellt werden"
   ]
  },
  {
   "cell_type": "code",
   "execution_count": 29,
   "id": "0663e7c8-6e06-4832-a3a8-2f8e0df74885",
   "metadata": {},
   "outputs": [
    {
     "data": {
      "text/plain": [
       "Index(['Patron Type Definition', 'Total Checkouts', 'Total Renewals',\n",
       "       'Age Range', 'Home Library Definition', 'Circulation Active Month',\n",
       "       'Circulation Active Year', 'Notice Preference Definition',\n",
       "       'Provided Email Address', 'Year Patron Registered',\n",
       "       'Within San Francisco County'],\n",
       "      dtype='object')"
      ]
     },
     "execution_count": 29,
     "metadata": {},
     "output_type": "execute_result"
    }
   ],
   "source": [
    "import pandas as pd\n",
    "df = pd.read_csv(\"../data/Library_Usage.csv\",low_memory=False)\n",
    "df.columns"
   ]
  },
  {
   "cell_type": "code",
   "execution_count": 33,
   "id": "fd4a3ee5-a1b6-402f-8625-03d78d6088e0",
   "metadata": {},
   "outputs": [
    {
     "name": "stdout",
     "output_type": "stream",
     "text": [
      "0         0\n",
      "1         0\n",
      "2         0\n",
      "3         1\n",
      "4         0\n",
      "         ..\n",
      "450354    0\n",
      "450355    0\n",
      "450356    0\n",
      "450357    0\n",
      "450358    0\n",
      "Name: Total Renewals, Length: 450359, dtype: int64\n",
      "        Total Renewals  Total Checkouts\n",
      "0                    0                5\n",
      "1                    0                0\n",
      "2                    0                0\n",
      "3                    1                1\n",
      "4                    0                0\n",
      "...                ...              ...\n",
      "450354               0                0\n",
      "450355               0                0\n",
      "450356               0                0\n",
      "450357               0                0\n",
      "450358               0                0\n",
      "\n",
      "[450359 rows x 2 columns]\n"
     ]
    }
   ],
   "source": [
    "subset_1 = df['Total Renewals']\n",
    "print(subset_1)\n",
    "subset_2 = df[['Total Renewals', 'Total Checkouts']]\n",
    "print(subset_2)"
   ]
  },
  {
   "cell_type": "code",
   "execution_count": 35,
   "id": "79261644-ea4c-4dba-8292-ac301bcebc92",
   "metadata": {},
   "outputs": [],
   "source": [
    "df['dummy_variable'] = 5"
   ]
  },
  {
   "cell_type": "markdown",
   "id": "0195943c-aca1-4f14-bc9c-8938930160fc",
   "metadata": {},
   "source": [
    "Berechnungen auf schon bestehenden Variablen können auch direkt einer neuen Spalte zugeordnet werden.\n",
    "\n",
    "Im ersten Beispiel wird zuerst die Anweisung df['Patron Type Definition'] == 'Adult' durchgeführt. Das implizite Ergebnis dieser Anweisung ist eine Series mit booleschen Werten True oder False. Die neu erstellte Series wird dann in einer neuen Spalte is_adult dem DataFrame angehängt.\n",
    "\n",
    "Im zweiten Beispiel wird der Logarithmus auf den Werten der Spalte Total Renewals berechnet und einer neuen Spalte log_renewals zugewiesen."
   ]
  },
  {
   "cell_type": "code",
   "execution_count": 38,
   "id": "c96cece1-abf8-4f4c-ace7-13eaf7f30959",
   "metadata": {},
   "outputs": [],
   "source": [
    "import numpy as np\n",
    "\n",
    "df['is_adult'] = df['Patron Type Definition'] == 'Adult'\n",
    "df['log_renewals'] = np.log(df['Total Renewals'] + 1)"
   ]
  },
  {
   "cell_type": "code",
   "execution_count": 40,
   "id": "6e822bcd-a14e-4a47-a081-46b18a9c5010",
   "metadata": {},
   "outputs": [
    {
     "data": {
      "text/html": [
       "<div>\n",
       "<style scoped>\n",
       "    .dataframe tbody tr th:only-of-type {\n",
       "        vertical-align: middle;\n",
       "    }\n",
       "\n",
       "    .dataframe tbody tr th {\n",
       "        vertical-align: top;\n",
       "    }\n",
       "\n",
       "    .dataframe thead th {\n",
       "        text-align: right;\n",
       "    }\n",
       "</style>\n",
       "<table border=\"1\" class=\"dataframe\">\n",
       "  <thead>\n",
       "    <tr style=\"text-align: right;\">\n",
       "      <th></th>\n",
       "      <th>Patron Type Definition</th>\n",
       "      <th>Total Checkouts</th>\n",
       "      <th>Total Renewals</th>\n",
       "      <th>Age Range</th>\n",
       "      <th>Home Library Definition</th>\n",
       "      <th>Circulation Active Month</th>\n",
       "      <th>Circulation Active Year</th>\n",
       "      <th>Notice Preference Definition</th>\n",
       "      <th>Provided Email Address</th>\n",
       "      <th>Year Patron Registered</th>\n",
       "      <th>Within San Francisco County</th>\n",
       "      <th>dummy_variable</th>\n",
       "      <th>is_adult</th>\n",
       "      <th>log_renewals</th>\n",
       "    </tr>\n",
       "  </thead>\n",
       "  <tbody>\n",
       "    <tr>\n",
       "      <th>0</th>\n",
       "      <td>Senior</td>\n",
       "      <td>5</td>\n",
       "      <td>0</td>\n",
       "      <td>75 years and over</td>\n",
       "      <td>Main</td>\n",
       "      <td>Nov</td>\n",
       "      <td>2022</td>\n",
       "      <td>Email</td>\n",
       "      <td>True</td>\n",
       "      <td>2015</td>\n",
       "      <td>False</td>\n",
       "      <td>5</td>\n",
       "      <td>False</td>\n",
       "      <td>0.000000</td>\n",
       "    </tr>\n",
       "    <tr>\n",
       "      <th>1</th>\n",
       "      <td>Adult</td>\n",
       "      <td>0</td>\n",
       "      <td>0</td>\n",
       "      <td>45 to 54 years</td>\n",
       "      <td>Main</td>\n",
       "      <td>Jul</td>\n",
       "      <td>2023</td>\n",
       "      <td>Email</td>\n",
       "      <td>True</td>\n",
       "      <td>2019</td>\n",
       "      <td>False</td>\n",
       "      <td>5</td>\n",
       "      <td>True</td>\n",
       "      <td>0.000000</td>\n",
       "    </tr>\n",
       "    <tr>\n",
       "      <th>2</th>\n",
       "      <td>Adult</td>\n",
       "      <td>0</td>\n",
       "      <td>0</td>\n",
       "      <td>55 to 59 years</td>\n",
       "      <td>Western Addition</td>\n",
       "      <td>Mar</td>\n",
       "      <td>2024</td>\n",
       "      <td>Email</td>\n",
       "      <td>True</td>\n",
       "      <td>2022</td>\n",
       "      <td>False</td>\n",
       "      <td>5</td>\n",
       "      <td>True</td>\n",
       "      <td>0.000000</td>\n",
       "    </tr>\n",
       "    <tr>\n",
       "      <th>3</th>\n",
       "      <td>Welcome</td>\n",
       "      <td>1</td>\n",
       "      <td>1</td>\n",
       "      <td>20 to 24 years</td>\n",
       "      <td>Richmond</td>\n",
       "      <td>Aug</td>\n",
       "      <td>2022</td>\n",
       "      <td>Email</td>\n",
       "      <td>True</td>\n",
       "      <td>2022</td>\n",
       "      <td>False</td>\n",
       "      <td>5</td>\n",
       "      <td>False</td>\n",
       "      <td>0.693147</td>\n",
       "    </tr>\n",
       "    <tr>\n",
       "      <th>4</th>\n",
       "      <td>Senior</td>\n",
       "      <td>0</td>\n",
       "      <td>0</td>\n",
       "      <td>65 to 74 years</td>\n",
       "      <td>Sunset</td>\n",
       "      <td>Mar</td>\n",
       "      <td>2024</td>\n",
       "      <td>Print</td>\n",
       "      <td>False</td>\n",
       "      <td>2023</td>\n",
       "      <td>False</td>\n",
       "      <td>5</td>\n",
       "      <td>False</td>\n",
       "      <td>0.000000</td>\n",
       "    </tr>\n",
       "    <tr>\n",
       "      <th>...</th>\n",
       "      <td>...</td>\n",
       "      <td>...</td>\n",
       "      <td>...</td>\n",
       "      <td>...</td>\n",
       "      <td>...</td>\n",
       "      <td>...</td>\n",
       "      <td>...</td>\n",
       "      <td>...</td>\n",
       "      <td>...</td>\n",
       "      <td>...</td>\n",
       "      <td>...</td>\n",
       "      <td>...</td>\n",
       "      <td>...</td>\n",
       "      <td>...</td>\n",
       "    </tr>\n",
       "    <tr>\n",
       "      <th>450354</th>\n",
       "      <td>Digital Access Card</td>\n",
       "      <td>0</td>\n",
       "      <td>0</td>\n",
       "      <td>35 to 44 years</td>\n",
       "      <td>Ingleside</td>\n",
       "      <td>Null</td>\n",
       "      <td>Null</td>\n",
       "      <td>Email</td>\n",
       "      <td>False</td>\n",
       "      <td>2023</td>\n",
       "      <td>Null</td>\n",
       "      <td>5</td>\n",
       "      <td>False</td>\n",
       "      <td>0.000000</td>\n",
       "    </tr>\n",
       "    <tr>\n",
       "      <th>450355</th>\n",
       "      <td>Digital Access Card</td>\n",
       "      <td>0</td>\n",
       "      <td>0</td>\n",
       "      <td>45 to 54 years</td>\n",
       "      <td>Ingleside</td>\n",
       "      <td>Aug</td>\n",
       "      <td>2022</td>\n",
       "      <td>Print</td>\n",
       "      <td>False</td>\n",
       "      <td>2022</td>\n",
       "      <td>Null</td>\n",
       "      <td>5</td>\n",
       "      <td>False</td>\n",
       "      <td>0.000000</td>\n",
       "    </tr>\n",
       "    <tr>\n",
       "      <th>450356</th>\n",
       "      <td>Digital Access Card</td>\n",
       "      <td>0</td>\n",
       "      <td>0</td>\n",
       "      <td>25 to 34 years</td>\n",
       "      <td>Ingleside</td>\n",
       "      <td>Aug</td>\n",
       "      <td>2022</td>\n",
       "      <td>Print</td>\n",
       "      <td>False</td>\n",
       "      <td>2022</td>\n",
       "      <td>Null</td>\n",
       "      <td>5</td>\n",
       "      <td>False</td>\n",
       "      <td>0.000000</td>\n",
       "    </tr>\n",
       "    <tr>\n",
       "      <th>450357</th>\n",
       "      <td>Digital Access Card</td>\n",
       "      <td>0</td>\n",
       "      <td>0</td>\n",
       "      <td>35 to 44 years</td>\n",
       "      <td>Ingleside</td>\n",
       "      <td>Apr</td>\n",
       "      <td>2022</td>\n",
       "      <td>Print</td>\n",
       "      <td>False</td>\n",
       "      <td>2022</td>\n",
       "      <td>Null</td>\n",
       "      <td>5</td>\n",
       "      <td>False</td>\n",
       "      <td>0.000000</td>\n",
       "    </tr>\n",
       "    <tr>\n",
       "      <th>450358</th>\n",
       "      <td>Digital Access Card</td>\n",
       "      <td>0</td>\n",
       "      <td>0</td>\n",
       "      <td>65 to 74 years</td>\n",
       "      <td>Bayview</td>\n",
       "      <td>Apr</td>\n",
       "      <td>2023</td>\n",
       "      <td>Email</td>\n",
       "      <td>False</td>\n",
       "      <td>2023</td>\n",
       "      <td>Null</td>\n",
       "      <td>5</td>\n",
       "      <td>False</td>\n",
       "      <td>0.000000</td>\n",
       "    </tr>\n",
       "  </tbody>\n",
       "</table>\n",
       "<p>450359 rows × 14 columns</p>\n",
       "</div>"
      ],
      "text/plain": [
       "       Patron Type Definition  Total Checkouts  Total Renewals  \\\n",
       "0                      Senior                5               0   \n",
       "1                       Adult                0               0   \n",
       "2                       Adult                0               0   \n",
       "3                     Welcome                1               1   \n",
       "4                      Senior                0               0   \n",
       "...                       ...              ...             ...   \n",
       "450354    Digital Access Card                0               0   \n",
       "450355    Digital Access Card                0               0   \n",
       "450356    Digital Access Card                0               0   \n",
       "450357    Digital Access Card                0               0   \n",
       "450358    Digital Access Card                0               0   \n",
       "\n",
       "                Age Range Home Library Definition Circulation Active Month  \\\n",
       "0       75 years and over                    Main                      Nov   \n",
       "1          45 to 54 years                    Main                      Jul   \n",
       "2          55 to 59 years        Western Addition                      Mar   \n",
       "3          20 to 24 years                Richmond                      Aug   \n",
       "4          65 to 74 years                  Sunset                      Mar   \n",
       "...                   ...                     ...                      ...   \n",
       "450354     35 to 44 years               Ingleside                     Null   \n",
       "450355     45 to 54 years               Ingleside                      Aug   \n",
       "450356     25 to 34 years               Ingleside                      Aug   \n",
       "450357     35 to 44 years               Ingleside                      Apr   \n",
       "450358     65 to 74 years                 Bayview                      Apr   \n",
       "\n",
       "       Circulation Active Year Notice Preference Definition  \\\n",
       "0                         2022                        Email   \n",
       "1                         2023                        Email   \n",
       "2                         2024                        Email   \n",
       "3                         2022                        Email   \n",
       "4                         2024                        Print   \n",
       "...                        ...                          ...   \n",
       "450354                    Null                        Email   \n",
       "450355                    2022                        Print   \n",
       "450356                    2022                        Print   \n",
       "450357                    2022                        Print   \n",
       "450358                    2023                        Email   \n",
       "\n",
       "        Provided Email Address  Year Patron Registered  \\\n",
       "0                         True                    2015   \n",
       "1                         True                    2019   \n",
       "2                         True                    2022   \n",
       "3                         True                    2022   \n",
       "4                        False                    2023   \n",
       "...                        ...                     ...   \n",
       "450354                   False                    2023   \n",
       "450355                   False                    2022   \n",
       "450356                   False                    2022   \n",
       "450357                   False                    2022   \n",
       "450358                   False                    2023   \n",
       "\n",
       "       Within San Francisco County  dummy_variable  is_adult  log_renewals  \n",
       "0                            False               5     False      0.000000  \n",
       "1                            False               5      True      0.000000  \n",
       "2                            False               5      True      0.000000  \n",
       "3                            False               5     False      0.693147  \n",
       "4                            False               5     False      0.000000  \n",
       "...                            ...             ...       ...           ...  \n",
       "450354                        Null               5     False      0.000000  \n",
       "450355                        Null               5     False      0.000000  \n",
       "450356                        Null               5     False      0.000000  \n",
       "450357                        Null               5     False      0.000000  \n",
       "450358                        Null               5     False      0.000000  \n",
       "\n",
       "[450359 rows x 14 columns]"
      ]
     },
     "execution_count": 40,
     "metadata": {},
     "output_type": "execute_result"
    }
   ],
   "source": [
    "df"
   ]
  },
  {
   "cell_type": "markdown",
   "id": "7f23c984-beb1-466c-b64b-2f048ed09a8a",
   "metadata": {},
   "source": [
    "## Aufgabe 2.5 Fallstudie: Feature Engineering\n",
    "\n",
    "Ziel ist es, eine neue Variable Membership Duration zu erstellen, die für jeden Kunden die aktive Mitgliedschaft in Monaten seit der Registrierung misst. Die aktive Mitgliedschaft wird definiert als:\n",
    "'Membership Duration' = ('Circulation Active Year' - 'Year Patron Registered')*12 + 'Circulation Active Month'"
   ]
  },
  {
   "cell_type": "code",
   "execution_count": 44,
   "id": "dbdd7437-9868-4155-b182-66a47e3a9a82",
   "metadata": {},
   "outputs": [
    {
     "data": {
      "text/plain": [
       "0         2022.0\n",
       "1         2023.0\n",
       "2         2024.0\n",
       "3         2022.0\n",
       "4         2024.0\n",
       "           ...  \n",
       "450354       NaN\n",
       "450355    2022.0\n",
       "450356    2022.0\n",
       "450357    2022.0\n",
       "450358    2023.0\n",
       "Name: Circulation Active Year, Length: 450359, dtype: float64"
      ]
     },
     "execution_count": 44,
     "metadata": {},
     "output_type": "execute_result"
    }
   ],
   "source": [
    "# Spalte Circulation Active Year ist als Text und nicht als Zahl abgespeichert\n",
    "# Konvertiere die Spalte in ein numerisches Format\n",
    "# Überschreibe die ursprüngliche Variable mit den neuen Werten\n",
    "pd.to_numeric(\n",
    "  df['Circulation Active Year'], errors='coerce'\n",
    ")"
   ]
  },
  {
   "cell_type": "code",
   "execution_count": 68,
   "id": "b6aebec1-5f7a-48f8-a82b-e3faa5934306",
   "metadata": {},
   "outputs": [],
   "source": [
    "# Spalte Circulation Active Month enthält die Monatsnamen als Text\n",
    "# Für die Berechnung muss diese in ein numerisches Format konvertiert werden.\n",
    "\n",
    "# Zuerst konvertieren wir die Spalte in ein Datumsformat. Das geht mit der Funktion pd.to_datetime\n",
    "# Überschreibe wieder die ursprüngliche Variable mit den neuen Werten\n",
    "\n",
    "df['Circulation Active Month'] = pd.to_datetime(\n",
    "    df['Circulation Active Month'],\n",
    "    errors='coerce',\n",
    "    format=\"%b\"\n",
    ")"
   ]
  },
  {
   "cell_type": "code",
   "execution_count": 72,
   "id": "08feab9f-5b9b-4fee-9e47-cfad2d2aa7ea",
   "metadata": {},
   "outputs": [],
   "source": [
    "# jetzt extrahieren wir den Monat als Zahl aus der Spalte \n",
    "\n",
    "df['Month'] = df['Circulation Active Month'].dt.month"
   ]
  },
  {
   "cell_type": "code",
   "execution_count": 98,
   "id": "e99db3e1-f29d-4d09-8b1d-67287f4bd53a",
   "metadata": {},
   "outputs": [
    {
     "name": "stdout",
     "output_type": "stream",
     "text": [
      "Patron Type Definition                  object\n",
      "Total Checkouts                          int64\n",
      "Total Renewals                           int64\n",
      "Age Range                               object\n",
      "Home Library Definition                 object\n",
      "Circulation Active Month        datetime64[ns]\n",
      "Circulation Active Year                float64\n",
      "Notice Preference Definition            object\n",
      "Provided Email Address                    bool\n",
      "Year Patron Registered                   int64\n",
      "Within San Francisco County             object\n",
      "dummy_variable                           int64\n",
      "is_adult                                  bool\n",
      "log_renewals                           float64\n",
      "Month                                  float64\n",
      "dtype: object\n"
     ]
    }
   ],
   "source": [
    "print(df.dtypes)"
   ]
  },
  {
   "cell_type": "code",
   "execution_count": 80,
   "id": "286d8f5c-ec1d-4c9b-9778-457ca7aba904",
   "metadata": {},
   "outputs": [
    {
     "data": {
      "text/plain": [
       "array([11.,  7.,  3.,  8.,  4.,  2.,  1., nan,  5., 10.,  9.,  6., 12.])"
      ]
     },
     "execution_count": 80,
     "metadata": {},
     "output_type": "execute_result"
    }
   ],
   "source": [
    "df['Month'].unique()"
   ]
  },
  {
   "cell_type": "code",
   "execution_count": 88,
   "id": "68675630-d1c6-4a60-bb01-e58e6ed48f53",
   "metadata": {},
   "outputs": [
    {
     "data": {
      "text/plain": [
       "array(['2022', '2023', '2024', '2021', 'Null', '2012', '2020', '2018',\n",
       "       '2019', '2013', '2015', '2017', '2016', '2011', '2009', '2014',\n",
       "       '2010', '2006', '2007', '2008', '2004', '2005'], dtype=object)"
      ]
     },
     "execution_count": 88,
     "metadata": {},
     "output_type": "execute_result"
    }
   ],
   "source": [
    "df['Circulation Active Year'].unique()"
   ]
  },
  {
   "cell_type": "code",
   "execution_count": 92,
   "id": "5fb27599-d5c6-44a6-801f-c41aca4508d0",
   "metadata": {
    "scrolled": true
   },
   "outputs": [],
   "source": [
    "# umwandlung von active year von object zu integer\n",
    "# erst null durch nan ersetzen\n",
    "df['Circulation Active Year'] = df['Circulation Active Year'].replace('Null', np.nan)"
   ]
  },
  {
   "cell_type": "code",
   "execution_count": 94,
   "id": "84acbeb6-16e6-41df-b78a-164bd5f36395",
   "metadata": {},
   "outputs": [],
   "source": [
    "# umwandlung von active year von object zu float da integeer nicht mit nan kompatibel\n",
    "df['Circulation Active Year'] = df['Circulation Active Year'].astype(float)"
   ]
  },
  {
   "cell_type": "code",
   "execution_count": 110,
   "id": "042d3391-a749-49f5-bb38-e18cec490b17",
   "metadata": {},
   "outputs": [],
   "source": [
    "# Berechne nun die aktive Mitgliedschaftsdauer in Monaten wie oben definiert\n",
    "# weise das Ergebnis der Spalte Membership Duration zu\n",
    "df['Membership Duration'] = (df['Circulation Active Year'] - df['Year Patron Registered'])*12 + df['Month']"
   ]
  },
  {
   "cell_type": "code",
   "execution_count": 100,
   "id": "e7b9ca89-985c-4560-b106-850e3f6b6e8b",
   "metadata": {},
   "outputs": [
    {
     "data": {
      "text/plain": [
       "0         11.0\n",
       "1          7.0\n",
       "2          3.0\n",
       "3          8.0\n",
       "4          3.0\n",
       "          ... \n",
       "450354     0.0\n",
       "450355     8.0\n",
       "450356     8.0\n",
       "450357     4.0\n",
       "450358     4.0\n",
       "Name: Month, Length: 450359, dtype: float64"
      ]
     },
     "execution_count": 100,
     "metadata": {},
     "output_type": "execute_result"
    }
   ],
   "source": [
    "df['Month'].fillna(0)"
   ]
  },
  {
   "cell_type": "code",
   "execution_count": 102,
   "id": "186c1ea1-258c-4282-a479-9708fd916931",
   "metadata": {},
   "outputs": [
    {
     "data": {
      "text/plain": [
       "0         2022.0\n",
       "1         2023.0\n",
       "2         2024.0\n",
       "3         2022.0\n",
       "4         2024.0\n",
       "           ...  \n",
       "450354       0.0\n",
       "450355    2022.0\n",
       "450356    2022.0\n",
       "450357    2022.0\n",
       "450358    2023.0\n",
       "Name: Circulation Active Year, Length: 450359, dtype: float64"
      ]
     },
     "execution_count": 102,
     "metadata": {},
     "output_type": "execute_result"
    }
   ],
   "source": [
    "df['Circulation Active Year'].fillna(0)"
   ]
  },
  {
   "cell_type": "code",
   "execution_count": 104,
   "id": "5144223c-de12-41cc-8486-fcbc5872424c",
   "metadata": {},
   "outputs": [
    {
     "data": {
      "text/plain": [
       "0         2015\n",
       "1         2019\n",
       "2         2022\n",
       "3         2022\n",
       "4         2023\n",
       "          ... \n",
       "450354    2023\n",
       "450355    2022\n",
       "450356    2022\n",
       "450357    2022\n",
       "450358    2023\n",
       "Name: Year Patron Registered, Length: 450359, dtype: int64"
      ]
     },
     "execution_count": 104,
     "metadata": {},
     "output_type": "execute_result"
    }
   ],
   "source": [
    "df['Year Patron Registered'].fillna(0)"
   ]
  },
  {
   "cell_type": "code",
   "execution_count": 112,
   "id": "3c463df7-d66f-41f7-acc7-7785fe443250",
   "metadata": {},
   "outputs": [
    {
     "data": {
      "text/plain": [
       "0         95.0\n",
       "1         55.0\n",
       "2         27.0\n",
       "3          8.0\n",
       "4         15.0\n",
       "          ... \n",
       "450354     0.0\n",
       "450355     8.0\n",
       "450356     8.0\n",
       "450357     4.0\n",
       "450358     4.0\n",
       "Name: Membership Duration, Length: 450359, dtype: float64"
      ]
     },
     "execution_count": 112,
     "metadata": {},
     "output_type": "execute_result"
    }
   ],
   "source": [
    "df['Membership Duration'].fillna(0)"
   ]
  },
  {
   "cell_type": "markdown",
   "id": "7d821d0b-f171-4621-b02d-bfb4aa12326a",
   "metadata": {},
   "source": [
    "## Auswahl von Zeilen \n",
    "Die Zeilen eines DataFrames können über drei verschiedene Arten ausgewählt werden. Das System kann am Anfang etwas verwirrend sein. Wir betrachten hier nur den wichtigsten Fall der Zeilenauswahl: Die Auswahl über logische Ausdrücke mittels loc[]"
   ]
  },
  {
   "cell_type": "code",
   "execution_count": null,
   "id": "e7bb0e97-6ff7-435a-9774-27f34788a2eb",
   "metadata": {},
   "outputs": [],
   "source": [
    "import pandas as pd\n",
    "df = pd.read_csv(\"../data/Library_Usage.csv\",low_memory=False)\n",
    "df.loc[df['Total Checkouts'] > 10000]\n"
   ]
  },
  {
   "cell_type": "markdown",
   "id": "6a98d1bb-a2dd-4b99-a783-63ec84c9077e",
   "metadata": {},
   "source": [
    "Der Ausdruck df['Total Checkouts'] > 10000 wird zuerst ausgewertet und ergibt eine boolesche Series mit Einträgen True wenn die Beobachtung mehr als 1000 Ausleihen getätigt hat und False sonst.\n",
    "\n",
    "Mit einer booleschen Series lassen sich dann die Zeilen des DataFrame auswählen: Es werden genau die Zeilen zurückgegeben, bei denen die Series True Werte enthält.\n",
    "\n",
    "Anstatt alles in einer Zeile zu schreiben, können wir auch eine Hilfsvariable erstellen, die den booleschen Vektor zwischenspeichert"
   ]
  },
  {
   "cell_type": "code",
   "execution_count": null,
   "id": "62c2f9fb-9fcc-4ca9-aff3-37e319708db3",
   "metadata": {},
   "outputs": [],
   "source": [
    "row_filter = df['Total Checkouts'] > 10000\n",
    "df.loc[row_filter]"
   ]
  },
  {
   "cell_type": "markdown",
   "id": "f66d8ae3-0492-4051-a65e-0b9ab81e1a1e",
   "metadata": {},
   "source": [
    "Für den booleschen Zeilenfilter können komplexe logische Ausdrücke unter Zuhilfenahme der Operatoren <, >, &, |, == u.s.w. gebildet werden. Welche Zeilen werden hier gefiltert?"
   ]
  },
  {
   "cell_type": "code",
   "execution_count": null,
   "id": "316af5c4-9fa5-43f2-a4e9-2dffcfeced1a",
   "metadata": {},
   "outputs": [],
   "source": [
    "row_filter = (df['Patron Type Definition'] == 'Senior') & (df['Notice Preference Definition'] == 'Email')\n",
    "df.loc[row_filter]"
   ]
  },
  {
   "cell_type": "markdown",
   "id": "56bbadad-5c4a-4b04-b1e2-ee5039af960e",
   "metadata": {},
   "source": [
    "Nützlich ist auch die Funktion Series.between(left, right), mit der eine boolesche Series erstellt wird, die True ist wenn der Wert der ursprünglichen Series zwischen oder auf den Werten left und right liegt. Im folgenden Beispiel wird gezeigt, dass die beiden Filter das gleiche Ergebnis liefern"
   ]
  },
  {
   "cell_type": "code",
   "execution_count": null,
   "id": "c02c29ef-f885-4c16-b90b-df7347f2372d",
   "metadata": {},
   "outputs": [],
   "source": [
    "filter1 = (df['Total Checkouts'] >= 20) & (df['Total Checkouts'] <= 80)\n",
    "filter2 =  df['Total Checkouts'].between(20, 80)\n",
    "all(filter1 == filter2)"
   ]
  },
  {
   "cell_type": "code",
   "execution_count": null,
   "id": "8c0b9288-3c87-4cb0-ab06-9d86f4c81afc",
   "metadata": {},
   "outputs": [],
   "source": [
    "# Filtere den Datensatz nach Kindern unter 10 Jahren. Wie viele Einträge erhältst Du?"
   ]
  },
  {
   "cell_type": "code",
   "execution_count": null,
   "id": "c5d67151-d954-4ead-9a26-496f9bfdce0e",
   "metadata": {},
   "outputs": [],
   "source": [
    "# Gibt es Personen mit mehr als 20000 Ausleihen?"
   ]
  },
  {
   "cell_type": "code",
   "execution_count": null,
   "id": "5dae4fb3-3ec8-4421-8ddd-11c45f596a44",
   "metadata": {},
   "outputs": [],
   "source": [
    "# Wie viele Personen stammen aus dem Stadtteil (Richmond)?"
   ]
  },
  {
   "cell_type": "code",
   "execution_count": null,
   "id": "70f042a6-444c-4e8c-8a2b-4634b037d3ff",
   "metadata": {},
   "outputs": [],
   "source": [
    "# Wie viele Prozent der Beobachtungen haben eine Membership Duration von Null Monaten?"
   ]
  },
  {
   "cell_type": "markdown",
   "id": "75faf1f2-03f7-460c-acca-688226ed15c1",
   "metadata": {},
   "source": [
    "## Fehlende Werte \n",
    "Real erhobene Daten sind meistens unsauber und fehlerhaft. Ein häufiges Problem dabei sind fehlende Werte, also Beobachtungen für die manche Merkmale nicht erhoben wurden. In jedem Datensatz werden fehlende Werte anders gekennzeichnet, aber man findet oft diese Kodierungen wieder: \"-999\", \"NA\", \" \", \"None\", \"NULL\", \"#N/A\".\n",
    "\n",
    "Wenn beispielsweise der Mittelwert einer statistischen Variable berechnet wird, so muss entschieden werden, wie mit fehlenden Werten umgegangen werden soll: Sollen die Werte entfernt werden? Sollen die fehlenden Werte durch einen bestimmten Wert ersetzt werden?\n",
    "\n",
    "In DataFrames werden fehlende Werte durch das Schlüsselwort NaN (\"Not a Number\") angezeigt. Beim Einlesen von Daten (siehe z.B. die read_csv Funktion) können mit dem Argument na_values zusätzliche Kodierungen für fehlerhafte Werte mit angegeben werden.\n",
    "\n",
    "Fallbeispiel\n",
    "\n",
    "Der Library Usage Datensatz enthält die Kodierung \"Null\" für fehlende Werte (Statt \"Null\" könnte auch ein beliebiger anderer Textwert stehen). Diese werden von pandas beim Einlesen von numerischen Spalten nicht richtig erkannt"
   ]
  },
  {
   "cell_type": "code",
   "execution_count": null,
   "id": "f9349175-31e8-499d-b80d-b7ad742658fd",
   "metadata": {},
   "outputs": [],
   "source": [
    "import pandas as pd\n",
    "\n",
    "df = pd.read_csv(\"../data/Library_Usage.csv\",low_memory=False)\n",
    "df['Circulation Active Year']"
   ]
  },
  {
   "cell_type": "markdown",
   "id": "29e4d8ed-6091-45ea-b35f-9da54deb7315",
   "metadata": {},
   "source": [
    "Obwohl die Spalte 'Circulation Active Year' numerisch ist, wird Sie von pandas als Text abgespeichert, da \"Null\" nicht als Zahl erkannt wird. Möchtest Du z.B. 2019 - df['Circulation Active Year'] berechnen, so wirst Du eine Fehlermeldung erhalten, da für Text-Werte keine Substraktionen durchgeführt werden können.\n",
    "\n",
    "Um das Problem zu beheben kannst Du auf zwei Arten vorgehen. Du kannst bereits beim Einlesen die Kodierung für fehlende Werte mit angeben"
   ]
  },
  {
   "cell_type": "code",
   "execution_count": null,
   "id": "d66dd3f0-bca5-4452-a2e5-06b3ba70b7a0",
   "metadata": {},
   "outputs": [],
   "source": [
    "df = pd.read_csv(\"../data/Library_Usage.csv\", low_memory=False, na_values=\"Null\")\n",
    "df['Circulation Active Year']\n",
    "\n",
    "# Oder Du führst nach dem Einlesen eine explizite Umwandlung des Datentyps aus:\n",
    "\n",
    "df = pd.read_csv(\"../data/Library_Usage.csv\", low_memory=False)\n",
    "df['Circulation Active Year'] = pd.to_numeric(df['Circulation Active Year'], errors='coerce')\n",
    "df['Circulation Active Year']\n"
   ]
  },
  {
   "cell_type": "markdown",
   "id": "09bf62ff-5244-41b3-9fb4-052b978e47dc",
   "metadata": {},
   "source": [
    "#### Behandlung von fehlenden Werten\n",
    "Pandas bietet für Series und DataFrames die nützlichen Funktionen isna(), notna(), dropna() und fillna() an um fehlende Werte zu identifizieren, zu entfernen oder mit anderen Werten zu ersetzen.\n",
    "Filter\n",
    "\n",
    "Die Funktionen isna (notna) geben eine boolesche Series zurück, die True (False) ist, wenn an der Stelle ein fehlender Wert steht. Damit pandas fehlende Werte korrekt erkennt, müssen diese vorher erst in das interne Format NaN umgewandelt werden (siehe oben)."
   ]
  },
  {
   "cell_type": "code",
   "execution_count": null,
   "id": "1c551e0c-bd4f-40d2-97c4-959e7a8f38cf",
   "metadata": {},
   "outputs": [],
   "source": [
    "df[df['Age Range'].isna()]\n",
    "df[df['Age Range'].notna()]\n",
    "\n",
    "#oder:\n",
    "df.isna().sum()"
   ]
  },
  {
   "cell_type": "code",
   "execution_count": null,
   "id": "cb116bf6-5f40-42f6-9188-8e1668d72b96",
   "metadata": {},
   "outputs": [],
   "source": [
    "# entfernen\n",
    "# drops all rows that contain at least one missing values\n",
    "df.dropna()\n",
    "# drops all missing values in this series\n",
    "df['Age Range'].dropna()"
   ]
  },
  {
   "cell_type": "code",
   "execution_count": null,
   "id": "f0a3cb06-36b9-4ac6-9c26-e446cb6a0fd9",
   "metadata": {},
   "outputs": [],
   "source": [
    "# ersetzen \n",
    "df['Age Range'].fillna(\"keine Angabe\")"
   ]
  },
  {
   "cell_type": "markdown",
   "id": "d61f0f41-802f-45db-99b8-7c7d58a298ab",
   "metadata": {},
   "source": [
    "Standardmäßig werden bei den Operationen fillna oder dropna neue Series oder DataFrames zurückgegeben. Die originale Variable bleibt dabei unangetastet. Mit dem Argument inplace=True werden die originalen Objekte direkt überschrieben."
   ]
  },
  {
   "cell_type": "code",
   "execution_count": null,
   "id": "dc50223e-021f-4e88-960e-ab67f045cc1a",
   "metadata": {},
   "outputs": [],
   "source": [
    "# Welche Spalten enthalten alles fehlende Werte?\n",
    "# Lies den Datensatz ein und erstelle einen DataFrame der keine Beobachtungen mit fehlenden Werten mehr enthält.\n",
    "# Speichere diesen unter dem Namen Library_Usage_Clean.csv ab.\n",
    "# Wie viele Beobachtungen wurden dabei entfernt?"
   ]
  },
  {
   "cell_type": "markdown",
   "id": "ca6b21d1-211c-4f73-96c4-7ca06ddc8182",
   "metadata": {},
   "source": [
    "## Nützliche Funktionen in Pandas\n",
    "Mit df.head() kannst Du Dir die ersten n Zeilen eines DataFrames anzeigen lassen\n",
    "Analog dazu funktioniert die Funktion df.tail()"
   ]
  },
  {
   "cell_type": "code",
   "execution_count": null,
   "id": "845b22f5-4b32-413b-9574-4246b4f9affc",
   "metadata": {},
   "outputs": [],
   "source": [
    "import pandas as pd\n",
    "df = pd.read_csv(\"../data/Library_Usage.csv\",low_memory=False)\n",
    "df.head()"
   ]
  },
  {
   "cell_type": "markdown",
   "id": "b76676a3-9e04-4ff9-8a4c-306ea106755c",
   "metadata": {},
   "source": [
    "Mit df.info() erhältst Du speicherbezogene Informationen über das Objekt. Mit df.describe() werden nützliche deskriptive Statistiken für alle numerischen Spalten eines Datensatzes ausgegeben. Um alle Spalten miteinzubeziehen nutze das Funktionsargument include='all'"
   ]
  },
  {
   "cell_type": "code",
   "execution_count": null,
   "id": "e2a8e38b-3f62-42fa-962e-a211c50cebad",
   "metadata": {},
   "outputs": [],
   "source": [
    "df.describe(include='all')"
   ]
  },
  {
   "cell_type": "code",
   "execution_count": null,
   "id": "6ea6ca46-fb05-4825-9a15-0108dd59f9e7",
   "metadata": {},
   "outputs": [],
   "source": [
    "# viele Funktionen funktionieren für DataFrames und Series gleichermaßen:\n",
    "\n",
    "print(df.min())\n",
    "print(df['Total Renewals'].min())"
   ]
  },
  {
   "cell_type": "code",
   "execution_count": null,
   "id": "3253612e-c3f7-44a6-9e2e-7aa5d72bbbe9",
   "metadata": {},
   "outputs": [],
   "source": [
    "# Mit der Funktion sum() werden die Werte einer Spalte aufaddiert:\n",
    "\n",
    "df['Total Renewals'].sum()\n",
    "df['Total Renewals'].between(100, 200).sum()\n"
   ]
  },
  {
   "cell_type": "code",
   "execution_count": null,
   "id": "a3eba11f-e90d-40a5-a82b-75034339617e",
   "metadata": {},
   "outputs": [],
   "source": [
    "# DataFrames besitzen drei wichtige Attribute, die Informationen über die Spalten, die Datentypen und die Anzahl der Elemente geben:\n",
    "\n",
    "df.columns\n",
    "df.dtypes\n",
    "df.shape"
   ]
  }
 ],
 "metadata": {
  "kernelspec": {
   "display_name": "Python [conda env:base] *",
   "language": "python",
   "name": "conda-base-py"
  },
  "language_info": {
   "codemirror_mode": {
    "name": "ipython",
    "version": 3
   },
   "file_extension": ".py",
   "mimetype": "text/x-python",
   "name": "python",
   "nbconvert_exporter": "python",
   "pygments_lexer": "ipython3",
   "version": "3.12.7"
  }
 },
 "nbformat": 4,
 "nbformat_minor": 5
}
