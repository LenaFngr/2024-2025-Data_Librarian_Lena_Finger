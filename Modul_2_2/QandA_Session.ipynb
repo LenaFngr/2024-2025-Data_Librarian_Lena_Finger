{
 "cells": [
  {
   "cell_type": "code",
   "execution_count": 1,
   "id": "b4d04c8f-3caf-4d1e-95ad-d1169f45df11",
   "metadata": {
    "tags": []
   },
   "outputs": [],
   "source": [
    "import pandas as pd"
   ]
  },
  {
   "cell_type": "code",
   "execution_count": 2,
   "id": "16623a24-5b9c-4ff3-8a65-11068335d50b",
   "metadata": {
    "tags": []
   },
   "outputs": [],
   "source": [
    "import requests"
   ]
  },
  {
   "cell_type": "code",
   "execution_count": 3,
   "id": "cd4d539b-823e-4785-9d38-510593b20a7b",
   "metadata": {
    "tags": []
   },
   "outputs": [],
   "source": [
    "# zum Zusammenbauen der Bibsonomy URL brauchen wir alles, was vor und nach der Query kommt\n",
    "url_base = \"https://www.bibsonomy.org/json/search/\"\n",
    "url_attr = \"?items=100\""
   ]
  },
  {
   "cell_type": "code",
   "execution_count": 4,
   "id": "884d8c28-7b53-4a8a-ad2f-0adfdd49d32c",
   "metadata": {
    "tags": []
   },
   "outputs": [
    {
     "data": {
      "text/plain": [
       "dict_keys(['types', 'properties', 'items'])"
      ]
     },
     "execution_count": 4,
     "metadata": {},
     "output_type": "execute_result"
    }
   ],
   "source": [
    "# ein kurzer Test: leerzeichen müssen ersetzt werden!\n",
    "requests.get(url_base + \"computer science\".replace(\" \", \"%20\") + url_attr).json().keys()"
   ]
  },
  {
   "cell_type": "code",
   "execution_count": 5,
   "id": "6aec2300-59da-46b7-9f00-4fdb0cab6aa4",
   "metadata": {
    "tags": []
   },
   "outputs": [],
   "source": [
    "def df_from_query(query):\n",
    "    # die URL; wir müssen Leerzeichen ersetzen mit \"%20\" nach ASCII Encoding guideline\n",
    "    url = url_base + query.replace(\" \", \"%20\") + url_attr\n",
    "    \n",
    "    result = requests.get(url)\n",
    "    json_data = result.json()\n",
    "    \n",
    "    # im Feld \"items\" stecken die relevanten Dateneinträge\n",
    "    dataframe = pd.DataFrame(json_data[\"items\"])\n",
    "\n",
    "    # wir filtern so, dass nur Publikationen bleiben\n",
    "    dataframe.loc[dataframe[\"type\"] == \"Publication\"]\n",
    "\n",
    "    # wir möchten die query in die Daten eintragen \n",
    "    dataframe[\"query\"] = query\n",
    "    \n",
    "    # die Rückgabe der Methode nicht vergessen:\n",
    "    return dataframe\n",
    "    "
   ]
  },
  {
   "cell_type": "code",
   "execution_count": 6,
   "id": "99d31ff3-47ce-4536-b8b3-570995a4e963",
   "metadata": {
    "tags": []
   },
   "outputs": [],
   "source": [
    "# kurzer Test:\n",
    "df_cs = df_from_query(\"computer science\")"
   ]
  },
  {
   "cell_type": "code",
   "execution_count": 7,
   "id": "693013fb-9e80-4073-a7d5-75e5d3cc3aac",
   "metadata": {
    "tags": []
   },
   "outputs": [
    {
     "name": "stdout",
     "output_type": "stream",
     "text": [
      "200 Ergebnisse für query cheese gefunden.\n",
      "146 Ergebnisse für query water management gefunden.\n",
      "200 Ergebnisse für query libraries gefunden.\n",
      "200 Ergebnisse für query Europe gefunden.\n",
      "200 Ergebnisse für query politics gefunden.\n"
     ]
    }
   ],
   "source": [
    "# wir erstellen eine leere Liste, in die wir unsere Dataframes packen\n",
    "dataframes = []\n",
    "\n",
    "# eine Liste von Suchanfragen\n",
    "queries = [\"cheese\", \"water management\", \"libraries\", \"Europe\", \"politics\"]\n",
    "\n",
    "# jetzt gehen wir die Liste von Suchanfragen durch und rufen unsere Funktion für jede Suchanfrage auf\n",
    "for query in queries:\n",
    "    df = df_from_query(query)\n",
    "    # schließlich fügen wir das DataFrame über append unserer Liste von Dataframes hinzu\n",
    "    dataframes.append(df)\n",
    "\n",
    "    # wie wir uns eine Statusausgabe schreiben würden:\n",
    "    # print(\"Ergebnisse für \", query , \" gefunden. Dataframe enthält \",len(df), \" Einträge.\")\n",
    "    \n",
    "    # mit einem f String lassen sich Variablen in Strings viel einfacher formatieren:\n",
    "    print(f\"{len(df)} Ergebnisse für query {query} gefunden.\")\n",
    "    \n",
    "    "
   ]
  },
  {
   "cell_type": "code",
   "execution_count": 8,
   "id": "a5d2ab71-978d-4c69-95c4-a1a2ca47bd12",
   "metadata": {
    "tags": []
   },
   "outputs": [],
   "source": [
    "# Da die dataframes die selbe From (column titles sind identisch, wenn für alle vorhanden) haben, können wir die Dataframes über concat zusammenfügen\n",
    "data = pd.concat(dataframes, ignore_index=True)"
   ]
  },
  {
   "cell_type": "code",
   "execution_count": 9,
   "id": "6cffb4ee-714b-4377-a82a-6ddf7038369f",
   "metadata": {
    "tags": []
   },
   "outputs": [
    {
     "data": {
      "text/plain": [
       "0        cheese\n",
       "1        cheese\n",
       "2        cheese\n",
       "3        cheese\n",
       "4        cheese\n",
       "         ...   \n",
       "941    politics\n",
       "942    politics\n",
       "943    politics\n",
       "944    politics\n",
       "945    politics\n",
       "Name: query, Length: 946, dtype: object"
      ]
     },
     "execution_count": 9,
     "metadata": {},
     "output_type": "execute_result"
    }
   ],
   "source": [
    "data[\"query\"]"
   ]
  },
  {
   "cell_type": "code",
   "execution_count": 10,
   "id": "84ba6e9a-403f-4b3b-9e61-928fd2961707",
   "metadata": {
    "tags": []
   },
   "outputs": [],
   "source": [
    "data.to_json(\"data/json_data.json\")"
   ]
  },
  {
   "cell_type": "code",
   "execution_count": 11,
   "id": "ed1fa29c-578a-4631-bcbe-11395a204885",
   "metadata": {
    "tags": []
   },
   "outputs": [
    {
     "data": {
      "text/plain": [
       "Index(['type', 'id', 'tags', 'intraHash', 'label', 'user', 'description',\n",
       "       'date', 'changeDate', 'count', 'url', 'interHash', 'pub-type',\n",
       "       'journal', 'publisher', 'address', 'year', 'author', 'authors',\n",
       "       'volume', 'number', 'pages', 'abstract', 'issn', 'doi', 'bibtexKey',\n",
       "       'citeulike-article-id', 'citeulike-linkout-0', 'isbn',\n",
       "       'citeulike-linkout-2', 'citeulike-linkout-1', 'citeulike-linkout-4',\n",
       "       'citeulike-linkout-3', 'priority', 'posted-at', 'booktitle', 'series',\n",
       "       'location', 'acmid', 'numpages', 'note', 'editor', 'editors', 'keyword',\n",
       "       'affiliation', 'issue', 'issue_date', 'ean', 'asin', 'dewey', 'eprint',\n",
       "       'language', 'refid', 'timestamp', 'username', 'intrahash', 'interhash',\n",
       "       'groups', 'owner', 'bibsource', 'ee', 'publisher_address', 'date-added',\n",
       "       'bdsk-url-1', 'w-type', 'w-projects', 'date-modified', 'urldate',\n",
       "       'query'],\n",
       "      dtype='object')"
      ]
     },
     "execution_count": 11,
     "metadata": {},
     "output_type": "execute_result"
    }
   ],
   "source": [
    "df_cs.columns"
   ]
  },
  {
   "cell_type": "code",
   "execution_count": 12,
   "id": "01d6f4e9-60cc-49aa-a5b8-3e4cbae38f8a",
   "metadata": {
    "tags": []
   },
   "outputs": [],
   "source": [
    "df_test = df_cs[['type', 'url', 'year', 'author', 'authors', 'abstract', 'doi', 'query']]"
   ]
  },
  {
   "cell_type": "code",
   "execution_count": 13,
   "id": "915e7262-5694-4323-8c0f-831a6532cc58",
   "metadata": {
    "tags": []
   },
   "outputs": [],
   "source": [
    "df_test = df_test.drop([\"doi\", \"abstract\"], axis=\"columns\")"
   ]
  },
  {
   "cell_type": "code",
   "execution_count": 14,
   "id": "706d2ccf-d8e5-44a2-8725-cf2e7059c1bc",
   "metadata": {
    "tags": []
   },
   "outputs": [
    {
     "data": {
      "text/html": [
       "<div>\n",
       "<style scoped>\n",
       "    .dataframe tbody tr th:only-of-type {\n",
       "        vertical-align: middle;\n",
       "    }\n",
       "\n",
       "    .dataframe tbody tr th {\n",
       "        vertical-align: top;\n",
       "    }\n",
       "\n",
       "    .dataframe thead th {\n",
       "        text-align: right;\n",
       "    }\n",
       "</style>\n",
       "<table border=\"1\" class=\"dataframe\">\n",
       "  <thead>\n",
       "    <tr style=\"text-align: right;\">\n",
       "      <th></th>\n",
       "      <th>type</th>\n",
       "      <th>url</th>\n",
       "      <th>year</th>\n",
       "      <th>author</th>\n",
       "      <th>authors</th>\n",
       "      <th>query</th>\n",
       "    </tr>\n",
       "  </thead>\n",
       "  <tbody>\n",
       "    <tr>\n",
       "      <th>0</th>\n",
       "      <td>Bookmark</td>\n",
       "      <td>https://ocw.mit.edu/courses/electrical-enginee...</td>\n",
       "      <td>NaN</td>\n",
       "      <td>NaN</td>\n",
       "      <td>NaN</td>\n",
       "      <td>computer science</td>\n",
       "    </tr>\n",
       "    <tr>\n",
       "      <th>1</th>\n",
       "      <td>Bookmark</td>\n",
       "      <td>https://abakcus.com/book_genre/computer-science/</td>\n",
       "      <td>NaN</td>\n",
       "      <td>NaN</td>\n",
       "      <td>NaN</td>\n",
       "      <td>computer science</td>\n",
       "    </tr>\n",
       "    <tr>\n",
       "      <th>2</th>\n",
       "      <td>Bookmark</td>\n",
       "      <td>https://www.slideshare.net/BartRienties/educat...</td>\n",
       "      <td>NaN</td>\n",
       "      <td>NaN</td>\n",
       "      <td>NaN</td>\n",
       "      <td>computer science</td>\n",
       "    </tr>\n",
       "    <tr>\n",
       "      <th>3</th>\n",
       "      <td>Bookmark</td>\n",
       "      <td>http://www.orb-academic.org/index.php/journal-...</td>\n",
       "      <td>NaN</td>\n",
       "      <td>NaN</td>\n",
       "      <td>NaN</td>\n",
       "      <td>computer science</td>\n",
       "    </tr>\n",
       "    <tr>\n",
       "      <th>4</th>\n",
       "      <td>Bookmark</td>\n",
       "      <td>http://ocw.mit.edu/courses/electrical-engineer...</td>\n",
       "      <td>NaN</td>\n",
       "      <td>NaN</td>\n",
       "      <td>NaN</td>\n",
       "      <td>computer science</td>\n",
       "    </tr>\n",
       "    <tr>\n",
       "      <th>...</th>\n",
       "      <td>...</td>\n",
       "      <td>...</td>\n",
       "      <td>...</td>\n",
       "      <td>...</td>\n",
       "      <td>...</td>\n",
       "      <td>...</td>\n",
       "    </tr>\n",
       "    <tr>\n",
       "      <th>195</th>\n",
       "      <td>Publication</td>\n",
       "      <td>http://dx.doi.org/10.1145/2543882.2543886</td>\n",
       "      <td>2013</td>\n",
       "      <td>[Ari Korhonen, Thomas L. Naps, Charles Boisver...</td>\n",
       "      <td>[{'first': 'Ari', 'last': 'Korhonen'}, {'first...</td>\n",
       "      <td>computer science</td>\n",
       "    </tr>\n",
       "    <tr>\n",
       "      <th>196</th>\n",
       "      <td>Publication</td>\n",
       "      <td>http://dx.doi.org/10.1145/2543882.2543886</td>\n",
       "      <td>2013</td>\n",
       "      <td>[Ari Korhonen, Thomas L. Naps, Charles Boisver...</td>\n",
       "      <td>[{'first': 'Ari', 'last': 'Korhonen'}, {'first...</td>\n",
       "      <td>computer science</td>\n",
       "    </tr>\n",
       "    <tr>\n",
       "      <th>197</th>\n",
       "      <td>Publication</td>\n",
       "      <td>http://dblp.uni-trier.de/db/journals/csedu/cse...</td>\n",
       "      <td>2006</td>\n",
       "      <td>[Michal Armoni, Judith Gal-Ezer, Orit Hazzan]</td>\n",
       "      <td>[{'first': 'Michal', 'last': 'Armoni'}, {'firs...</td>\n",
       "      <td>computer science</td>\n",
       "    </tr>\n",
       "    <tr>\n",
       "      <th>198</th>\n",
       "      <td>Publication</td>\n",
       "      <td>http://dblp.uni-trier.de/db/journals/csedu/cse...</td>\n",
       "      <td>1990</td>\n",
       "      <td>[Cathleen A. Norris, James L. Poirot, Gerald K...</td>\n",
       "      <td>[{'first': 'Cathleen A.', 'last': 'Norris'}, {...</td>\n",
       "      <td>computer science</td>\n",
       "    </tr>\n",
       "    <tr>\n",
       "      <th>199</th>\n",
       "      <td>Publication</td>\n",
       "      <td>http://ieeexplore.ieee.org/xpl/articleDetails....</td>\n",
       "      <td>1999</td>\n",
       "      <td>[B. Schinzel]</td>\n",
       "      <td>[{'first': 'B.', 'last': 'Schinzel'}]</td>\n",
       "      <td>computer science</td>\n",
       "    </tr>\n",
       "  </tbody>\n",
       "</table>\n",
       "<p>200 rows × 6 columns</p>\n",
       "</div>"
      ],
      "text/plain": [
       "            type                                                url  year  \\\n",
       "0       Bookmark  https://ocw.mit.edu/courses/electrical-enginee...   NaN   \n",
       "1       Bookmark   https://abakcus.com/book_genre/computer-science/   NaN   \n",
       "2       Bookmark  https://www.slideshare.net/BartRienties/educat...   NaN   \n",
       "3       Bookmark  http://www.orb-academic.org/index.php/journal-...   NaN   \n",
       "4       Bookmark  http://ocw.mit.edu/courses/electrical-engineer...   NaN   \n",
       "..           ...                                                ...   ...   \n",
       "195  Publication          http://dx.doi.org/10.1145/2543882.2543886  2013   \n",
       "196  Publication          http://dx.doi.org/10.1145/2543882.2543886  2013   \n",
       "197  Publication  http://dblp.uni-trier.de/db/journals/csedu/cse...  2006   \n",
       "198  Publication  http://dblp.uni-trier.de/db/journals/csedu/cse...  1990   \n",
       "199  Publication  http://ieeexplore.ieee.org/xpl/articleDetails....  1999   \n",
       "\n",
       "                                                author  \\\n",
       "0                                                  NaN   \n",
       "1                                                  NaN   \n",
       "2                                                  NaN   \n",
       "3                                                  NaN   \n",
       "4                                                  NaN   \n",
       "..                                                 ...   \n",
       "195  [Ari Korhonen, Thomas L. Naps, Charles Boisver...   \n",
       "196  [Ari Korhonen, Thomas L. Naps, Charles Boisver...   \n",
       "197      [Michal Armoni, Judith Gal-Ezer, Orit Hazzan]   \n",
       "198  [Cathleen A. Norris, James L. Poirot, Gerald K...   \n",
       "199                                      [B. Schinzel]   \n",
       "\n",
       "                                               authors             query  \n",
       "0                                                  NaN  computer science  \n",
       "1                                                  NaN  computer science  \n",
       "2                                                  NaN  computer science  \n",
       "3                                                  NaN  computer science  \n",
       "4                                                  NaN  computer science  \n",
       "..                                                 ...               ...  \n",
       "195  [{'first': 'Ari', 'last': 'Korhonen'}, {'first...  computer science  \n",
       "196  [{'first': 'Ari', 'last': 'Korhonen'}, {'first...  computer science  \n",
       "197  [{'first': 'Michal', 'last': 'Armoni'}, {'firs...  computer science  \n",
       "198  [{'first': 'Cathleen A.', 'last': 'Norris'}, {...  computer science  \n",
       "199              [{'first': 'B.', 'last': 'Schinzel'}]  computer science  \n",
       "\n",
       "[200 rows x 6 columns]"
      ]
     },
     "execution_count": 14,
     "metadata": {},
     "output_type": "execute_result"
    }
   ],
   "source": [
    "df_test"
   ]
  },
  {
   "cell_type": "code",
   "execution_count": null,
   "id": "bdf0eeda",
   "metadata": {},
   "outputs": [],
   "source": []
  },
  {
   "cell_type": "markdown",
   "id": "231dd205",
   "metadata": {},
   "source": [
    "# Fragen\n",
    "### Allgemein\n",
    "- Ihr geht sicher noch einmal darauf ein, wie die in der Teilaufgabe erstellt json-Datei für die weitere Bearbeitung aussehen soll? (Größe? Ich habe NaN-Einträge. Ist das ein ko-Kriterium?) --> Wolfgang\n",
    "- Ich habe totale Probleme bei GitHub, die ich nicht lösen kann. Kann ich mich mit Bitte um einen 'Crashkurs' am 24.1. an Dich wenden? --> Wolfgang\n",
    "\n",
    "### Python & Pandas\n",
    "- .apply funktioniert. Mir ist aber nicht ganz klar, wie?, dass. beim Export in json.\n",
    "- Welche Möglichkeiten gibt es, um Spalten aus dem DataFrame zu löschen? Mit .drop kann auf den Spaltennamen zugegriffen und gelöscht werden. Und wenn dies nicht möglich ist, weil z.B. ein Spaltenname doppelt vergeben ist? Gibt es einen eleganteren Weg, als eine Kopie mit den gewünschten Spalten zu öffnen und damit die Variable zu überschreiben? Etwa über einen Spaltenindex?"
   ]
  },
  {
   "cell_type": "code",
   "execution_count": 15,
   "id": "5a321d20-6d8e-4b23-8d9e-54bff9366045",
   "metadata": {},
   "outputs": [],
   "source": [
    "df_lamp = df_from_query(\"desk lamp\")"
   ]
  },
  {
   "cell_type": "code",
   "execution_count": 16,
   "id": "5192894c",
   "metadata": {},
   "outputs": [
    {
     "data": {
      "text/plain": [
       "Index(['type', 'id', 'tags', 'intraHash', 'label', 'user', 'description',\n",
       "       'date', 'changeDate', 'count', 'url', 'interHash', 'pub-type',\n",
       "       'journal', 'year', 'author', 'authors', 'volume', 'number', 'pages',\n",
       "       'ee', 'bibtexKey', 'booktitle', 'series', 'publisher', 'editor',\n",
       "       'editors', 'isbn', 'dnbtitleid', 'address', 'refid', 'abstract',\n",
       "       'holdings', 'publisher_address', 'size', 'notes', 'eventtitle',\n",
       "       'language', 'doi', 'issn', 'citeulike-article-id',\n",
       "       'citeulike-linkout-1', 'priority', 'posted-at', 'eprint',\n",
       "       'citeulike-linkout-0', 'archiveprefix', 'query'],\n",
       "      dtype='object')"
      ]
     },
     "execution_count": 16,
     "metadata": {},
     "output_type": "execute_result"
    }
   ],
   "source": [
    "df_lamp.columns"
   ]
  },
  {
   "cell_type": "code",
   "execution_count": 18,
   "id": "3146f66f",
   "metadata": {},
   "outputs": [],
   "source": [
    "# Über eine liste von einer liste von column names (Doppelte [[]] !) können wir spalten auswählen\n",
    "df = df_lamp[['type', 'url', 'year', 'author', 'authors', 'abstract', 'doi', 'query']]"
   ]
  },
  {
   "cell_type": "code",
   "execution_count": 19,
   "id": "be717dea",
   "metadata": {},
   "outputs": [
    {
     "data": {
      "text/html": [
       "<div>\n",
       "<style scoped>\n",
       "    .dataframe tbody tr th:only-of-type {\n",
       "        vertical-align: middle;\n",
       "    }\n",
       "\n",
       "    .dataframe tbody tr th {\n",
       "        vertical-align: top;\n",
       "    }\n",
       "\n",
       "    .dataframe thead th {\n",
       "        text-align: right;\n",
       "    }\n",
       "</style>\n",
       "<table border=\"1\" class=\"dataframe\">\n",
       "  <thead>\n",
       "    <tr style=\"text-align: right;\">\n",
       "      <th></th>\n",
       "      <th>type</th>\n",
       "      <th>url</th>\n",
       "      <th>year</th>\n",
       "      <th>author</th>\n",
       "      <th>authors</th>\n",
       "      <th>abstract</th>\n",
       "      <th>doi</th>\n",
       "      <th>query</th>\n",
       "    </tr>\n",
       "  </thead>\n",
       "  <tbody>\n",
       "    <tr>\n",
       "      <th>0</th>\n",
       "      <td>Bookmark</td>\n",
       "      <td>http://www.heise.de/tp/artikel/27/27814/1.html</td>\n",
       "      <td>NaN</td>\n",
       "      <td>NaN</td>\n",
       "      <td>NaN</td>\n",
       "      <td>NaN</td>\n",
       "      <td>NaN</td>\n",
       "      <td>desk lamp</td>\n",
       "    </tr>\n",
       "    <tr>\n",
       "      <th>1</th>\n",
       "      <td>Bookmark</td>\n",
       "      <td>http://www.christian-von-kamp.de/</td>\n",
       "      <td>NaN</td>\n",
       "      <td>NaN</td>\n",
       "      <td>NaN</td>\n",
       "      <td>NaN</td>\n",
       "      <td>NaN</td>\n",
       "      <td>desk lamp</td>\n",
       "    </tr>\n",
       "    <tr>\n",
       "      <th>2</th>\n",
       "      <td>Bookmark</td>\n",
       "      <td>http://www.lapdawg.com/functions/lap-writing-d...</td>\n",
       "      <td>NaN</td>\n",
       "      <td>NaN</td>\n",
       "      <td>NaN</td>\n",
       "      <td>NaN</td>\n",
       "      <td>NaN</td>\n",
       "      <td>desk lamp</td>\n",
       "    </tr>\n",
       "    <tr>\n",
       "      <th>3</th>\n",
       "      <td>Bookmark</td>\n",
       "      <td>http://www.securityfocus.com/cgi-bin/index.cgi...</td>\n",
       "      <td>NaN</td>\n",
       "      <td>NaN</td>\n",
       "      <td>NaN</td>\n",
       "      <td>NaN</td>\n",
       "      <td>NaN</td>\n",
       "      <td>desk lamp</td>\n",
       "    </tr>\n",
       "    <tr>\n",
       "      <th>4</th>\n",
       "      <td>Bookmark</td>\n",
       "      <td>http://www.securityfocus.com/cgi-bin/index.cgi...</td>\n",
       "      <td>NaN</td>\n",
       "      <td>NaN</td>\n",
       "      <td>NaN</td>\n",
       "      <td>NaN</td>\n",
       "      <td>NaN</td>\n",
       "      <td>desk lamp</td>\n",
       "    </tr>\n",
       "    <tr>\n",
       "      <th>...</th>\n",
       "      <td>...</td>\n",
       "      <td>...</td>\n",
       "      <td>...</td>\n",
       "      <td>...</td>\n",
       "      <td>...</td>\n",
       "      <td>...</td>\n",
       "      <td>...</td>\n",
       "      <td>...</td>\n",
       "    </tr>\n",
       "    <tr>\n",
       "      <th>114</th>\n",
       "      <td>Publication</td>\n",
       "      <td></td>\n",
       "      <td>1998</td>\n",
       "      <td>[Sodikdjon Kodirov]</td>\n",
       "      <td>[{'first': 'Sodikdjon', 'last': 'Kodirov'}]</td>\n",
       "      <td>NaN</td>\n",
       "      <td>NaN</td>\n",
       "      <td>desk lamp</td>\n",
       "    </tr>\n",
       "    <tr>\n",
       "      <th>115</th>\n",
       "      <td>Publication</td>\n",
       "      <td></td>\n",
       "      <td>2012</td>\n",
       "      <td>[Katharina Hubertus]</td>\n",
       "      <td>[{'first': 'Katharina', 'last': 'Hubertus'}]</td>\n",
       "      <td>NaN</td>\n",
       "      <td>NaN</td>\n",
       "      <td>desk lamp</td>\n",
       "    </tr>\n",
       "    <tr>\n",
       "      <th>116</th>\n",
       "      <td>Publication</td>\n",
       "      <td></td>\n",
       "      <td>1988</td>\n",
       "      <td>[Olaf Schneewind]</td>\n",
       "      <td>[{'first': 'Olaf', 'last': 'Schneewind'}]</td>\n",
       "      <td>NaN</td>\n",
       "      <td>NaN</td>\n",
       "      <td>desk lamp</td>\n",
       "    </tr>\n",
       "    <tr>\n",
       "      <th>117</th>\n",
       "      <td>Publication</td>\n",
       "      <td></td>\n",
       "      <td>2005</td>\n",
       "      <td>[Birgit Gehrisch]</td>\n",
       "      <td>[{'first': 'Birgit', 'last': 'Gehrisch'}]</td>\n",
       "      <td>NaN</td>\n",
       "      <td>NaN</td>\n",
       "      <td>desk lamp</td>\n",
       "    </tr>\n",
       "    <tr>\n",
       "      <th>118</th>\n",
       "      <td>Publication</td>\n",
       "      <td></td>\n",
       "      <td>2005</td>\n",
       "      <td>[Richard Lorenz]</td>\n",
       "      <td>[{'first': 'Richard', 'last': 'Lorenz'}]</td>\n",
       "      <td>NaN</td>\n",
       "      <td>NaN</td>\n",
       "      <td>desk lamp</td>\n",
       "    </tr>\n",
       "  </tbody>\n",
       "</table>\n",
       "<p>119 rows × 8 columns</p>\n",
       "</div>"
      ],
      "text/plain": [
       "            type                                                url  year  \\\n",
       "0       Bookmark     http://www.heise.de/tp/artikel/27/27814/1.html   NaN   \n",
       "1       Bookmark                  http://www.christian-von-kamp.de/   NaN   \n",
       "2       Bookmark  http://www.lapdawg.com/functions/lap-writing-d...   NaN   \n",
       "3       Bookmark  http://www.securityfocus.com/cgi-bin/index.cgi...   NaN   \n",
       "4       Bookmark  http://www.securityfocus.com/cgi-bin/index.cgi...   NaN   \n",
       "..           ...                                                ...   ...   \n",
       "114  Publication                                                     1998   \n",
       "115  Publication                                                     2012   \n",
       "116  Publication                                                     1988   \n",
       "117  Publication                                                     2005   \n",
       "118  Publication                                                     2005   \n",
       "\n",
       "                   author                                       authors  \\\n",
       "0                     NaN                                           NaN   \n",
       "1                     NaN                                           NaN   \n",
       "2                     NaN                                           NaN   \n",
       "3                     NaN                                           NaN   \n",
       "4                     NaN                                           NaN   \n",
       "..                    ...                                           ...   \n",
       "114   [Sodikdjon Kodirov]   [{'first': 'Sodikdjon', 'last': 'Kodirov'}]   \n",
       "115  [Katharina Hubertus]  [{'first': 'Katharina', 'last': 'Hubertus'}]   \n",
       "116     [Olaf Schneewind]     [{'first': 'Olaf', 'last': 'Schneewind'}]   \n",
       "117     [Birgit Gehrisch]     [{'first': 'Birgit', 'last': 'Gehrisch'}]   \n",
       "118      [Richard Lorenz]      [{'first': 'Richard', 'last': 'Lorenz'}]   \n",
       "\n",
       "    abstract  doi      query  \n",
       "0        NaN  NaN  desk lamp  \n",
       "1        NaN  NaN  desk lamp  \n",
       "2        NaN  NaN  desk lamp  \n",
       "3        NaN  NaN  desk lamp  \n",
       "4        NaN  NaN  desk lamp  \n",
       "..       ...  ...        ...  \n",
       "114      NaN  NaN  desk lamp  \n",
       "115      NaN  NaN  desk lamp  \n",
       "116      NaN  NaN  desk lamp  \n",
       "117      NaN  NaN  desk lamp  \n",
       "118      NaN  NaN  desk lamp  \n",
       "\n",
       "[119 rows x 8 columns]"
      ]
     },
     "execution_count": 19,
     "metadata": {},
     "output_type": "execute_result"
    }
   ],
   "source": [
    "df"
   ]
  },
  {
   "cell_type": "code",
   "execution_count": 20,
   "id": "8e5693d3",
   "metadata": {},
   "outputs": [],
   "source": [
    "# mit drop können wir eine Liste von columns entfernen\n",
    "df = df.drop([\"doi\", \"abstract\"], axis=\"columns\")"
   ]
  },
  {
   "cell_type": "code",
   "execution_count": 21,
   "id": "d1cfd12f",
   "metadata": {},
   "outputs": [],
   "source": [
    "## Apply\n",
    "import random\n",
    "df_test = pd.DataFrame([[5500, 200],[7000, 350]], columns=[\"Strecke\",\"Steigung\"], index=[\"Peter\", \"Petra\"] )\n",
    "df_test[\"Tag\"] = \"Sonntag\""
   ]
  },
  {
   "cell_type": "code",
   "execution_count": 22,
   "id": "d21ec28b",
   "metadata": {},
   "outputs": [
    {
     "data": {
      "text/html": [
       "<div>\n",
       "<style scoped>\n",
       "    .dataframe tbody tr th:only-of-type {\n",
       "        vertical-align: middle;\n",
       "    }\n",
       "\n",
       "    .dataframe tbody tr th {\n",
       "        vertical-align: top;\n",
       "    }\n",
       "\n",
       "    .dataframe thead th {\n",
       "        text-align: right;\n",
       "    }\n",
       "</style>\n",
       "<table border=\"1\" class=\"dataframe\">\n",
       "  <thead>\n",
       "    <tr style=\"text-align: right;\">\n",
       "      <th></th>\n",
       "      <th>Strecke</th>\n",
       "      <th>Steigung</th>\n",
       "      <th>Tag</th>\n",
       "    </tr>\n",
       "  </thead>\n",
       "  <tbody>\n",
       "    <tr>\n",
       "      <th>Peter</th>\n",
       "      <td>5500</td>\n",
       "      <td>200</td>\n",
       "      <td>Sonntag</td>\n",
       "    </tr>\n",
       "    <tr>\n",
       "      <th>Petra</th>\n",
       "      <td>7000</td>\n",
       "      <td>350</td>\n",
       "      <td>Sonntag</td>\n",
       "    </tr>\n",
       "  </tbody>\n",
       "</table>\n",
       "</div>"
      ],
      "text/plain": [
       "       Strecke  Steigung      Tag\n",
       "Peter     5500       200  Sonntag\n",
       "Petra     7000       350  Sonntag"
      ]
     },
     "execution_count": 22,
     "metadata": {},
     "output_type": "execute_result"
    }
   ],
   "source": [
    "df_test"
   ]
  },
  {
   "cell_type": "code",
   "execution_count": 23,
   "id": "ff327642",
   "metadata": {},
   "outputs": [],
   "source": [
    "def to_km(meters):\n",
    "    return meters/1000"
   ]
  },
  {
   "cell_type": "code",
   "execution_count": 29,
   "id": "7aaa8a5a",
   "metadata": {},
   "outputs": [
    {
     "ename": "TypeError",
     "evalue": "unsupported operand type(s) for /: 'str' and 'int'",
     "output_type": "error",
     "traceback": [
      "\u001b[0;31m---------------------------------------------------------------------------\u001b[0m",
      "\u001b[0;31mTypeError\u001b[0m                                 Traceback (most recent call last)",
      "File \u001b[0;32m/Library/Frameworks/Python.framework/Versions/3.11/lib/python3.11/site-packages/pandas/core/ops/array_ops.py:218\u001b[0m, in \u001b[0;36m_na_arithmetic_op\u001b[0;34m(left, right, op, is_cmp)\u001b[0m\n\u001b[1;32m    217\u001b[0m \u001b[38;5;28;01mtry\u001b[39;00m:\n\u001b[0;32m--> 218\u001b[0m     result \u001b[38;5;241m=\u001b[39m \u001b[43mfunc\u001b[49m\u001b[43m(\u001b[49m\u001b[43mleft\u001b[49m\u001b[43m,\u001b[49m\u001b[43m \u001b[49m\u001b[43mright\u001b[49m\u001b[43m)\u001b[49m\n\u001b[1;32m    219\u001b[0m \u001b[38;5;28;01mexcept\u001b[39;00m \u001b[38;5;167;01mTypeError\u001b[39;00m:\n",
      "File \u001b[0;32m/Library/Frameworks/Python.framework/Versions/3.11/lib/python3.11/site-packages/pandas/core/computation/expressions.py:242\u001b[0m, in \u001b[0;36mevaluate\u001b[0;34m(op, a, b, use_numexpr)\u001b[0m\n\u001b[1;32m    240\u001b[0m     \u001b[38;5;28;01mif\u001b[39;00m use_numexpr:\n\u001b[1;32m    241\u001b[0m         \u001b[38;5;66;03m# error: \"None\" not callable\u001b[39;00m\n\u001b[0;32m--> 242\u001b[0m         \u001b[38;5;28;01mreturn\u001b[39;00m \u001b[43m_evaluate\u001b[49m\u001b[43m(\u001b[49m\u001b[43mop\u001b[49m\u001b[43m,\u001b[49m\u001b[43m \u001b[49m\u001b[43mop_str\u001b[49m\u001b[43m,\u001b[49m\u001b[43m \u001b[49m\u001b[43ma\u001b[49m\u001b[43m,\u001b[49m\u001b[43m \u001b[49m\u001b[43mb\u001b[49m\u001b[43m)\u001b[49m  \u001b[38;5;66;03m# type: ignore[misc]\u001b[39;00m\n\u001b[1;32m    243\u001b[0m \u001b[38;5;28;01mreturn\u001b[39;00m _evaluate_standard(op, op_str, a, b)\n",
      "File \u001b[0;32m/Library/Frameworks/Python.framework/Versions/3.11/lib/python3.11/site-packages/pandas/core/computation/expressions.py:73\u001b[0m, in \u001b[0;36m_evaluate_standard\u001b[0;34m(op, op_str, a, b)\u001b[0m\n\u001b[1;32m     72\u001b[0m     _store_test_result(\u001b[38;5;28;01mFalse\u001b[39;00m)\n\u001b[0;32m---> 73\u001b[0m \u001b[38;5;28;01mreturn\u001b[39;00m \u001b[43mop\u001b[49m\u001b[43m(\u001b[49m\u001b[43ma\u001b[49m\u001b[43m,\u001b[49m\u001b[43m \u001b[49m\u001b[43mb\u001b[49m\u001b[43m)\u001b[49m\n",
      "\u001b[0;31mTypeError\u001b[0m: unsupported operand type(s) for /: 'str' and 'int'",
      "\nDuring handling of the above exception, another exception occurred:\n",
      "\u001b[0;31mTypeError\u001b[0m                                 Traceback (most recent call last)",
      "Cell \u001b[0;32mIn[29], line 2\u001b[0m\n\u001b[1;32m      1\u001b[0m \u001b[38;5;66;03m# so bekommen wir einen Fehler - wir möchten eigentlich ja auch nur die Strecke umwandeln!\u001b[39;00m\n\u001b[0;32m----> 2\u001b[0m \u001b[43mdf_test\u001b[49m\u001b[38;5;241;43m.\u001b[39;49m\u001b[43mapply\u001b[49m\u001b[43m(\u001b[49m\u001b[43mto_km\u001b[49m\u001b[43m)\u001b[49m\n",
      "File \u001b[0;32m/Library/Frameworks/Python.framework/Versions/3.11/lib/python3.11/site-packages/pandas/core/frame.py:10374\u001b[0m, in \u001b[0;36mDataFrame.apply\u001b[0;34m(self, func, axis, raw, result_type, args, by_row, engine, engine_kwargs, **kwargs)\u001b[0m\n\u001b[1;32m  10360\u001b[0m \u001b[38;5;28;01mfrom\u001b[39;00m \u001b[38;5;21;01mpandas\u001b[39;00m\u001b[38;5;21;01m.\u001b[39;00m\u001b[38;5;21;01mcore\u001b[39;00m\u001b[38;5;21;01m.\u001b[39;00m\u001b[38;5;21;01mapply\u001b[39;00m \u001b[38;5;28;01mimport\u001b[39;00m frame_apply\n\u001b[1;32m  10362\u001b[0m op \u001b[38;5;241m=\u001b[39m frame_apply(\n\u001b[1;32m  10363\u001b[0m     \u001b[38;5;28mself\u001b[39m,\n\u001b[1;32m  10364\u001b[0m     func\u001b[38;5;241m=\u001b[39mfunc,\n\u001b[0;32m   (...)\u001b[0m\n\u001b[1;32m  10372\u001b[0m     kwargs\u001b[38;5;241m=\u001b[39mkwargs,\n\u001b[1;32m  10373\u001b[0m )\n\u001b[0;32m> 10374\u001b[0m \u001b[38;5;28;01mreturn\u001b[39;00m \u001b[43mop\u001b[49m\u001b[38;5;241;43m.\u001b[39;49m\u001b[43mapply\u001b[49m\u001b[43m(\u001b[49m\u001b[43m)\u001b[49m\u001b[38;5;241m.\u001b[39m__finalize__(\u001b[38;5;28mself\u001b[39m, method\u001b[38;5;241m=\u001b[39m\u001b[38;5;124m\"\u001b[39m\u001b[38;5;124mapply\u001b[39m\u001b[38;5;124m\"\u001b[39m)\n",
      "File \u001b[0;32m/Library/Frameworks/Python.framework/Versions/3.11/lib/python3.11/site-packages/pandas/core/apply.py:916\u001b[0m, in \u001b[0;36mFrameApply.apply\u001b[0;34m(self)\u001b[0m\n\u001b[1;32m    913\u001b[0m \u001b[38;5;28;01melif\u001b[39;00m \u001b[38;5;28mself\u001b[39m\u001b[38;5;241m.\u001b[39mraw:\n\u001b[1;32m    914\u001b[0m     \u001b[38;5;28;01mreturn\u001b[39;00m \u001b[38;5;28mself\u001b[39m\u001b[38;5;241m.\u001b[39mapply_raw(engine\u001b[38;5;241m=\u001b[39m\u001b[38;5;28mself\u001b[39m\u001b[38;5;241m.\u001b[39mengine, engine_kwargs\u001b[38;5;241m=\u001b[39m\u001b[38;5;28mself\u001b[39m\u001b[38;5;241m.\u001b[39mengine_kwargs)\n\u001b[0;32m--> 916\u001b[0m \u001b[38;5;28;01mreturn\u001b[39;00m \u001b[38;5;28;43mself\u001b[39;49m\u001b[38;5;241;43m.\u001b[39;49m\u001b[43mapply_standard\u001b[49m\u001b[43m(\u001b[49m\u001b[43m)\u001b[49m\n",
      "File \u001b[0;32m/Library/Frameworks/Python.framework/Versions/3.11/lib/python3.11/site-packages/pandas/core/apply.py:1063\u001b[0m, in \u001b[0;36mFrameApply.apply_standard\u001b[0;34m(self)\u001b[0m\n\u001b[1;32m   1061\u001b[0m \u001b[38;5;28;01mdef\u001b[39;00m \u001b[38;5;21mapply_standard\u001b[39m(\u001b[38;5;28mself\u001b[39m):\n\u001b[1;32m   1062\u001b[0m     \u001b[38;5;28;01mif\u001b[39;00m \u001b[38;5;28mself\u001b[39m\u001b[38;5;241m.\u001b[39mengine \u001b[38;5;241m==\u001b[39m \u001b[38;5;124m\"\u001b[39m\u001b[38;5;124mpython\u001b[39m\u001b[38;5;124m\"\u001b[39m:\n\u001b[0;32m-> 1063\u001b[0m         results, res_index \u001b[38;5;241m=\u001b[39m \u001b[38;5;28;43mself\u001b[39;49m\u001b[38;5;241;43m.\u001b[39;49m\u001b[43mapply_series_generator\u001b[49m\u001b[43m(\u001b[49m\u001b[43m)\u001b[49m\n\u001b[1;32m   1064\u001b[0m     \u001b[38;5;28;01melse\u001b[39;00m:\n\u001b[1;32m   1065\u001b[0m         results, res_index \u001b[38;5;241m=\u001b[39m \u001b[38;5;28mself\u001b[39m\u001b[38;5;241m.\u001b[39mapply_series_numba()\n",
      "File \u001b[0;32m/Library/Frameworks/Python.framework/Versions/3.11/lib/python3.11/site-packages/pandas/core/apply.py:1081\u001b[0m, in \u001b[0;36mFrameApply.apply_series_generator\u001b[0;34m(self)\u001b[0m\n\u001b[1;32m   1078\u001b[0m \u001b[38;5;28;01mwith\u001b[39;00m option_context(\u001b[38;5;124m\"\u001b[39m\u001b[38;5;124mmode.chained_assignment\u001b[39m\u001b[38;5;124m\"\u001b[39m, \u001b[38;5;28;01mNone\u001b[39;00m):\n\u001b[1;32m   1079\u001b[0m     \u001b[38;5;28;01mfor\u001b[39;00m i, v \u001b[38;5;129;01min\u001b[39;00m \u001b[38;5;28menumerate\u001b[39m(series_gen):\n\u001b[1;32m   1080\u001b[0m         \u001b[38;5;66;03m# ignore SettingWithCopy here in case the user mutates\u001b[39;00m\n\u001b[0;32m-> 1081\u001b[0m         results[i] \u001b[38;5;241m=\u001b[39m \u001b[38;5;28;43mself\u001b[39;49m\u001b[38;5;241;43m.\u001b[39;49m\u001b[43mfunc\u001b[49m\u001b[43m(\u001b[49m\u001b[43mv\u001b[49m\u001b[43m,\u001b[49m\u001b[43m \u001b[49m\u001b[38;5;241;43m*\u001b[39;49m\u001b[38;5;28;43mself\u001b[39;49m\u001b[38;5;241;43m.\u001b[39;49m\u001b[43margs\u001b[49m\u001b[43m,\u001b[49m\u001b[43m \u001b[49m\u001b[38;5;241;43m*\u001b[39;49m\u001b[38;5;241;43m*\u001b[39;49m\u001b[38;5;28;43mself\u001b[39;49m\u001b[38;5;241;43m.\u001b[39;49m\u001b[43mkwargs\u001b[49m\u001b[43m)\u001b[49m\n\u001b[1;32m   1082\u001b[0m         \u001b[38;5;28;01mif\u001b[39;00m \u001b[38;5;28misinstance\u001b[39m(results[i], ABCSeries):\n\u001b[1;32m   1083\u001b[0m             \u001b[38;5;66;03m# If we have a view on v, we need to make a copy because\u001b[39;00m\n\u001b[1;32m   1084\u001b[0m             \u001b[38;5;66;03m#  series_generator will swap out the underlying data\u001b[39;00m\n\u001b[1;32m   1085\u001b[0m             results[i] \u001b[38;5;241m=\u001b[39m results[i]\u001b[38;5;241m.\u001b[39mcopy(deep\u001b[38;5;241m=\u001b[39m\u001b[38;5;28;01mFalse\u001b[39;00m)\n",
      "Cell \u001b[0;32mIn[23], line 2\u001b[0m, in \u001b[0;36mto_km\u001b[0;34m(meters)\u001b[0m\n\u001b[1;32m      1\u001b[0m \u001b[38;5;28;01mdef\u001b[39;00m \u001b[38;5;21mto_km\u001b[39m(meters):\n\u001b[0;32m----> 2\u001b[0m     \u001b[38;5;28;01mreturn\u001b[39;00m \u001b[43mmeters\u001b[49m\u001b[38;5;241;43m/\u001b[39;49m\u001b[38;5;241;43m1000\u001b[39;49m\n",
      "File \u001b[0;32m/Library/Frameworks/Python.framework/Versions/3.11/lib/python3.11/site-packages/pandas/core/ops/common.py:76\u001b[0m, in \u001b[0;36m_unpack_zerodim_and_defer.<locals>.new_method\u001b[0;34m(self, other)\u001b[0m\n\u001b[1;32m     72\u001b[0m             \u001b[38;5;28;01mreturn\u001b[39;00m \u001b[38;5;28mNotImplemented\u001b[39m\n\u001b[1;32m     74\u001b[0m other \u001b[38;5;241m=\u001b[39m item_from_zerodim(other)\n\u001b[0;32m---> 76\u001b[0m \u001b[38;5;28;01mreturn\u001b[39;00m \u001b[43mmethod\u001b[49m\u001b[43m(\u001b[49m\u001b[38;5;28;43mself\u001b[39;49m\u001b[43m,\u001b[49m\u001b[43m \u001b[49m\u001b[43mother\u001b[49m\u001b[43m)\u001b[49m\n",
      "File \u001b[0;32m/Library/Frameworks/Python.framework/Versions/3.11/lib/python3.11/site-packages/pandas/core/arraylike.py:210\u001b[0m, in \u001b[0;36mOpsMixin.__truediv__\u001b[0;34m(self, other)\u001b[0m\n\u001b[1;32m    208\u001b[0m \u001b[38;5;129m@unpack_zerodim_and_defer\u001b[39m(\u001b[38;5;124m\"\u001b[39m\u001b[38;5;124m__truediv__\u001b[39m\u001b[38;5;124m\"\u001b[39m)\n\u001b[1;32m    209\u001b[0m \u001b[38;5;28;01mdef\u001b[39;00m \u001b[38;5;21m__truediv__\u001b[39m(\u001b[38;5;28mself\u001b[39m, other):\n\u001b[0;32m--> 210\u001b[0m     \u001b[38;5;28;01mreturn\u001b[39;00m \u001b[38;5;28;43mself\u001b[39;49m\u001b[38;5;241;43m.\u001b[39;49m\u001b[43m_arith_method\u001b[49m\u001b[43m(\u001b[49m\u001b[43mother\u001b[49m\u001b[43m,\u001b[49m\u001b[43m \u001b[49m\u001b[43moperator\u001b[49m\u001b[38;5;241;43m.\u001b[39;49m\u001b[43mtruediv\u001b[49m\u001b[43m)\u001b[49m\n",
      "File \u001b[0;32m/Library/Frameworks/Python.framework/Versions/3.11/lib/python3.11/site-packages/pandas/core/series.py:6135\u001b[0m, in \u001b[0;36mSeries._arith_method\u001b[0;34m(self, other, op)\u001b[0m\n\u001b[1;32m   6133\u001b[0m \u001b[38;5;28;01mdef\u001b[39;00m \u001b[38;5;21m_arith_method\u001b[39m(\u001b[38;5;28mself\u001b[39m, other, op):\n\u001b[1;32m   6134\u001b[0m     \u001b[38;5;28mself\u001b[39m, other \u001b[38;5;241m=\u001b[39m \u001b[38;5;28mself\u001b[39m\u001b[38;5;241m.\u001b[39m_align_for_op(other)\n\u001b[0;32m-> 6135\u001b[0m     \u001b[38;5;28;01mreturn\u001b[39;00m \u001b[43mbase\u001b[49m\u001b[38;5;241;43m.\u001b[39;49m\u001b[43mIndexOpsMixin\u001b[49m\u001b[38;5;241;43m.\u001b[39;49m\u001b[43m_arith_method\u001b[49m\u001b[43m(\u001b[49m\u001b[38;5;28;43mself\u001b[39;49m\u001b[43m,\u001b[49m\u001b[43m \u001b[49m\u001b[43mother\u001b[49m\u001b[43m,\u001b[49m\u001b[43m \u001b[49m\u001b[43mop\u001b[49m\u001b[43m)\u001b[49m\n",
      "File \u001b[0;32m/Library/Frameworks/Python.framework/Versions/3.11/lib/python3.11/site-packages/pandas/core/base.py:1382\u001b[0m, in \u001b[0;36mIndexOpsMixin._arith_method\u001b[0;34m(self, other, op)\u001b[0m\n\u001b[1;32m   1379\u001b[0m     rvalues \u001b[38;5;241m=\u001b[39m np\u001b[38;5;241m.\u001b[39marange(rvalues\u001b[38;5;241m.\u001b[39mstart, rvalues\u001b[38;5;241m.\u001b[39mstop, rvalues\u001b[38;5;241m.\u001b[39mstep)\n\u001b[1;32m   1381\u001b[0m \u001b[38;5;28;01mwith\u001b[39;00m np\u001b[38;5;241m.\u001b[39merrstate(\u001b[38;5;28mall\u001b[39m\u001b[38;5;241m=\u001b[39m\u001b[38;5;124m\"\u001b[39m\u001b[38;5;124mignore\u001b[39m\u001b[38;5;124m\"\u001b[39m):\n\u001b[0;32m-> 1382\u001b[0m     result \u001b[38;5;241m=\u001b[39m \u001b[43mops\u001b[49m\u001b[38;5;241;43m.\u001b[39;49m\u001b[43marithmetic_op\u001b[49m\u001b[43m(\u001b[49m\u001b[43mlvalues\u001b[49m\u001b[43m,\u001b[49m\u001b[43m \u001b[49m\u001b[43mrvalues\u001b[49m\u001b[43m,\u001b[49m\u001b[43m \u001b[49m\u001b[43mop\u001b[49m\u001b[43m)\u001b[49m\n\u001b[1;32m   1384\u001b[0m \u001b[38;5;28;01mreturn\u001b[39;00m \u001b[38;5;28mself\u001b[39m\u001b[38;5;241m.\u001b[39m_construct_result(result, name\u001b[38;5;241m=\u001b[39mres_name)\n",
      "File \u001b[0;32m/Library/Frameworks/Python.framework/Versions/3.11/lib/python3.11/site-packages/pandas/core/ops/array_ops.py:283\u001b[0m, in \u001b[0;36marithmetic_op\u001b[0;34m(left, right, op)\u001b[0m\n\u001b[1;32m    279\u001b[0m     _bool_arith_check(op, left, right)  \u001b[38;5;66;03m# type: ignore[arg-type]\u001b[39;00m\n\u001b[1;32m    281\u001b[0m     \u001b[38;5;66;03m# error: Argument 1 to \"_na_arithmetic_op\" has incompatible type\u001b[39;00m\n\u001b[1;32m    282\u001b[0m     \u001b[38;5;66;03m# \"Union[ExtensionArray, ndarray[Any, Any]]\"; expected \"ndarray[Any, Any]\"\u001b[39;00m\n\u001b[0;32m--> 283\u001b[0m     res_values \u001b[38;5;241m=\u001b[39m \u001b[43m_na_arithmetic_op\u001b[49m\u001b[43m(\u001b[49m\u001b[43mleft\u001b[49m\u001b[43m,\u001b[49m\u001b[43m \u001b[49m\u001b[43mright\u001b[49m\u001b[43m,\u001b[49m\u001b[43m \u001b[49m\u001b[43mop\u001b[49m\u001b[43m)\u001b[49m  \u001b[38;5;66;03m# type: ignore[arg-type]\u001b[39;00m\n\u001b[1;32m    285\u001b[0m \u001b[38;5;28;01mreturn\u001b[39;00m res_values\n",
      "File \u001b[0;32m/Library/Frameworks/Python.framework/Versions/3.11/lib/python3.11/site-packages/pandas/core/ops/array_ops.py:227\u001b[0m, in \u001b[0;36m_na_arithmetic_op\u001b[0;34m(left, right, op, is_cmp)\u001b[0m\n\u001b[1;32m    219\u001b[0m \u001b[38;5;28;01mexcept\u001b[39;00m \u001b[38;5;167;01mTypeError\u001b[39;00m:\n\u001b[1;32m    220\u001b[0m     \u001b[38;5;28;01mif\u001b[39;00m \u001b[38;5;129;01mnot\u001b[39;00m is_cmp \u001b[38;5;129;01mand\u001b[39;00m (\n\u001b[1;32m    221\u001b[0m         left\u001b[38;5;241m.\u001b[39mdtype \u001b[38;5;241m==\u001b[39m \u001b[38;5;28mobject\u001b[39m \u001b[38;5;129;01mor\u001b[39;00m \u001b[38;5;28mgetattr\u001b[39m(right, \u001b[38;5;124m\"\u001b[39m\u001b[38;5;124mdtype\u001b[39m\u001b[38;5;124m\"\u001b[39m, \u001b[38;5;28;01mNone\u001b[39;00m) \u001b[38;5;241m==\u001b[39m \u001b[38;5;28mobject\u001b[39m\n\u001b[1;32m    222\u001b[0m     ):\n\u001b[0;32m   (...)\u001b[0m\n\u001b[1;32m    225\u001b[0m         \u001b[38;5;66;03m# Don't do this for comparisons, as that will handle complex numbers\u001b[39;00m\n\u001b[1;32m    226\u001b[0m         \u001b[38;5;66;03m#  incorrectly, see GH#32047\u001b[39;00m\n\u001b[0;32m--> 227\u001b[0m         result \u001b[38;5;241m=\u001b[39m \u001b[43m_masked_arith_op\u001b[49m\u001b[43m(\u001b[49m\u001b[43mleft\u001b[49m\u001b[43m,\u001b[49m\u001b[43m \u001b[49m\u001b[43mright\u001b[49m\u001b[43m,\u001b[49m\u001b[43m \u001b[49m\u001b[43mop\u001b[49m\u001b[43m)\u001b[49m\n\u001b[1;32m    228\u001b[0m     \u001b[38;5;28;01melse\u001b[39;00m:\n\u001b[1;32m    229\u001b[0m         \u001b[38;5;28;01mraise\u001b[39;00m\n",
      "File \u001b[0;32m/Library/Frameworks/Python.framework/Versions/3.11/lib/python3.11/site-packages/pandas/core/ops/array_ops.py:182\u001b[0m, in \u001b[0;36m_masked_arith_op\u001b[0;34m(x, y, op)\u001b[0m\n\u001b[1;32m    179\u001b[0m         mask \u001b[38;5;241m=\u001b[39m np\u001b[38;5;241m.\u001b[39mwhere(y \u001b[38;5;241m==\u001b[39m \u001b[38;5;241m1\u001b[39m, \u001b[38;5;28;01mFalse\u001b[39;00m, mask)\n\u001b[1;32m    181\u001b[0m     \u001b[38;5;28;01mif\u001b[39;00m mask\u001b[38;5;241m.\u001b[39many():\n\u001b[0;32m--> 182\u001b[0m         result[mask] \u001b[38;5;241m=\u001b[39m \u001b[43mop\u001b[49m\u001b[43m(\u001b[49m\u001b[43mxrav\u001b[49m\u001b[43m[\u001b[49m\u001b[43mmask\u001b[49m\u001b[43m]\u001b[49m\u001b[43m,\u001b[49m\u001b[43m \u001b[49m\u001b[43my\u001b[49m\u001b[43m)\u001b[49m\n\u001b[1;32m    184\u001b[0m np\u001b[38;5;241m.\u001b[39mputmask(result, \u001b[38;5;241m~\u001b[39mmask, np\u001b[38;5;241m.\u001b[39mnan)\n\u001b[1;32m    185\u001b[0m result \u001b[38;5;241m=\u001b[39m result\u001b[38;5;241m.\u001b[39mreshape(x\u001b[38;5;241m.\u001b[39mshape)  \u001b[38;5;66;03m# 2D compat\u001b[39;00m\n",
      "\u001b[0;31mTypeError\u001b[0m: unsupported operand type(s) for /: 'str' and 'int'"
     ]
    }
   ],
   "source": [
    "# so bekommen wir einen Fehler - wir möchten eigentlich ja auch nur die Strecke umwandeln!\n",
    "df_test.apply(to_km)"
   ]
  },
  {
   "cell_type": "code",
   "execution_count": 30,
   "id": "0d05413b",
   "metadata": {},
   "outputs": [
    {
     "data": {
      "text/html": [
       "<div>\n",
       "<style scoped>\n",
       "    .dataframe tbody tr th:only-of-type {\n",
       "        vertical-align: middle;\n",
       "    }\n",
       "\n",
       "    .dataframe tbody tr th {\n",
       "        vertical-align: top;\n",
       "    }\n",
       "\n",
       "    .dataframe thead th {\n",
       "        text-align: right;\n",
       "    }\n",
       "</style>\n",
       "<table border=\"1\" class=\"dataframe\">\n",
       "  <thead>\n",
       "    <tr style=\"text-align: right;\">\n",
       "      <th></th>\n",
       "      <th>Strecke</th>\n",
       "      <th>Steigung</th>\n",
       "      <th>Tag</th>\n",
       "      <th>Strecke in km</th>\n",
       "    </tr>\n",
       "  </thead>\n",
       "  <tbody>\n",
       "    <tr>\n",
       "      <th>Peter</th>\n",
       "      <td>5500</td>\n",
       "      <td>200</td>\n",
       "      <td>Sonntag</td>\n",
       "      <td>5.5</td>\n",
       "    </tr>\n",
       "    <tr>\n",
       "      <th>Petra</th>\n",
       "      <td>7000</td>\n",
       "      <td>350</td>\n",
       "      <td>Sonntag</td>\n",
       "      <td>7.0</td>\n",
       "    </tr>\n",
       "  </tbody>\n",
       "</table>\n",
       "</div>"
      ],
      "text/plain": [
       "       Strecke  Steigung      Tag  Strecke in km\n",
       "Peter     5500       200  Sonntag            5.5\n",
       "Petra     7000       350  Sonntag            7.0"
      ]
     },
     "execution_count": 30,
     "metadata": {},
     "output_type": "execute_result"
    }
   ],
   "source": [
    "df_test"
   ]
  },
  {
   "cell_type": "code",
   "execution_count": 31,
   "id": "a146c17d",
   "metadata": {},
   "outputs": [
    {
     "data": {
      "text/plain": [
       "Peter    5.5\n",
       "Petra    7.0\n",
       "Name: Strecke, dtype: float64"
      ]
     },
     "execution_count": 31,
     "metadata": {},
     "output_type": "execute_result"
    }
   ],
   "source": [
    "df_test[\"Strecke\"].apply(to_km)"
   ]
  },
  {
   "cell_type": "code",
   "execution_count": 32,
   "id": "b9e00441",
   "metadata": {},
   "outputs": [
    {
     "data": {
      "text/plain": [
       "Peter    5.5\n",
       "Petra    7.0\n",
       "dtype: float64"
      ]
     },
     "execution_count": 32,
     "metadata": {},
     "output_type": "execute_result"
    }
   ],
   "source": [
    "# apply mit lambda gibt ein Series Object zurück\n",
    "df_test.apply(lambda row: to_km(row[\"Strecke\"]), axis=1)"
   ]
  },
  {
   "cell_type": "code",
   "execution_count": 36,
   "id": "90655a12",
   "metadata": {},
   "outputs": [],
   "source": [
    "# wir speichern in eine Spalte\n",
    "df_test[\"Strecke in km\"] = df_test.apply(lambda row: to_km(row[\"Strecke\"]), axis=1)"
   ]
  },
  {
   "cell_type": "code",
   "execution_count": 34,
   "id": "a6338498",
   "metadata": {},
   "outputs": [
    {
     "data": {
      "text/html": [
       "<div>\n",
       "<style scoped>\n",
       "    .dataframe tbody tr th:only-of-type {\n",
       "        vertical-align: middle;\n",
       "    }\n",
       "\n",
       "    .dataframe tbody tr th {\n",
       "        vertical-align: top;\n",
       "    }\n",
       "\n",
       "    .dataframe thead th {\n",
       "        text-align: right;\n",
       "    }\n",
       "</style>\n",
       "<table border=\"1\" class=\"dataframe\">\n",
       "  <thead>\n",
       "    <tr style=\"text-align: right;\">\n",
       "      <th></th>\n",
       "      <th>Strecke</th>\n",
       "      <th>Steigung</th>\n",
       "      <th>Tag</th>\n",
       "      <th>Strecke in km</th>\n",
       "    </tr>\n",
       "  </thead>\n",
       "  <tbody>\n",
       "    <tr>\n",
       "      <th>Peter</th>\n",
       "      <td>5500</td>\n",
       "      <td>200</td>\n",
       "      <td>Sonntag</td>\n",
       "      <td>5.5</td>\n",
       "    </tr>\n",
       "    <tr>\n",
       "      <th>Petra</th>\n",
       "      <td>7000</td>\n",
       "      <td>350</td>\n",
       "      <td>Sonntag</td>\n",
       "      <td>7.0</td>\n",
       "    </tr>\n",
       "  </tbody>\n",
       "</table>\n",
       "</div>"
      ],
      "text/plain": [
       "       Strecke  Steigung      Tag  Strecke in km\n",
       "Peter     5500       200  Sonntag            5.5\n",
       "Petra     7000       350  Sonntag            7.0"
      ]
     },
     "execution_count": 34,
     "metadata": {},
     "output_type": "execute_result"
    }
   ],
   "source": [
    "df_test"
   ]
  },
  {
   "cell_type": "code",
   "execution_count": 37,
   "id": "709062e7",
   "metadata": {},
   "outputs": [
    {
     "data": {
      "text/plain": [
       "Peter    36.363636\n",
       "Petra    50.000000\n",
       "dtype: float64"
      ]
     },
     "execution_count": 37,
     "metadata": {},
     "output_type": "execute_result"
    }
   ],
   "source": [
    "# Anwendung mit mehreren columns\n",
    "\n",
    "df_test.apply(lambda row: row[\"Steigung\"]/row[\"Strecke in km\"], axis=1)"
   ]
  },
  {
   "cell_type": "code",
   "execution_count": null,
   "id": "93744212",
   "metadata": {},
   "outputs": [],
   "source": []
  }
 ],
 "metadata": {
  "kernelspec": {
   "display_name": "Python 3 (ipykernel)",
   "language": "python",
   "name": "python3"
  },
  "language_info": {
   "codemirror_mode": {
    "name": "ipython",
    "version": 3
   },
   "file_extension": ".py",
   "mimetype": "text/x-python",
   "name": "python",
   "nbconvert_exporter": "python",
   "pygments_lexer": "ipython3",
   "version": "3.11.3"
  }
 },
 "nbformat": 4,
 "nbformat_minor": 5
}
