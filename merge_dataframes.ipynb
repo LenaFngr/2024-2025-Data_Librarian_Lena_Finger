{
 "cells": [
  {
   "cell_type": "code",
   "execution_count": 10,
   "id": "f87ce134-79d7-4f99-85a4-2a0f2e64c7f6",
   "metadata": {},
   "outputs": [],
   "source": [
    "import pandas as pd\n",
    "import numpy as np"
   ]
  },
  {
   "cell_type": "code",
   "execution_count": 2,
   "id": "34ab0332-61a4-4c4f-8546-7784f468450a",
   "metadata": {},
   "outputs": [],
   "source": [
    "doi_df_journal = pd.DataFrame({\n",
    "    \"DOI\": [\n",
    "        \"10.1371/journal.pcbi.1004668\",\n",
    "        \"10.21105/joss.01035\",\n",
    "        \"10.12688/f1000research.18866.2\",\n",
    "        \"10.1038/s41598-019-52881-4\",\n",
    "        \"10.1186/s12859-019-3171-0\"],\n",
    "    \"journal\": [\n",
    "        \"PLoS Comput Biol\",\n",
    "        \"JOSS\",\n",
    "        \"F1000Res\",\n",
    "        \"Sci Rep\",\n",
    "        \"BMC Bioinformatics\"]})\n",
    "\n",
    "doi_df_first_author = pd.DataFrame({\n",
    "    \"DOI\": [\n",
    "        \"10.1371/journal.pcbi.1004668\",\n",
    "        \"10.21105/joss.01035\",\n",
    "        \"10.21105/joss.01006\",\n",
    "        \"10.12688/f1000research.18866.2\",\n",
    "        \"10.1186/s12859-019-3171-0\"],\n",
    "    \"first_author\": [\n",
    "        \"Blischak\",\n",
    "        \"Sparks\",\n",
    "        \"Granger\",\n",
    "        \"Thang\",\n",
    "        \"Chen\"]})\n"
   ]
  },
  {
   "cell_type": "code",
   "execution_count": 3,
   "id": "defbb7f6-f80f-44a4-ab33-e7de371fbdbe",
   "metadata": {},
   "outputs": [
    {
     "data": {
      "text/html": [
       "<div>\n",
       "<style scoped>\n",
       "    .dataframe tbody tr th:only-of-type {\n",
       "        vertical-align: middle;\n",
       "    }\n",
       "\n",
       "    .dataframe tbody tr th {\n",
       "        vertical-align: top;\n",
       "    }\n",
       "\n",
       "    .dataframe thead th {\n",
       "        text-align: right;\n",
       "    }\n",
       "</style>\n",
       "<table border=\"1\" class=\"dataframe\">\n",
       "  <thead>\n",
       "    <tr style=\"text-align: right;\">\n",
       "      <th></th>\n",
       "      <th>DOI</th>\n",
       "      <th>first_author</th>\n",
       "    </tr>\n",
       "  </thead>\n",
       "  <tbody>\n",
       "    <tr>\n",
       "      <th>0</th>\n",
       "      <td>10.1371/journal.pcbi.1004668</td>\n",
       "      <td>Blischak</td>\n",
       "    </tr>\n",
       "    <tr>\n",
       "      <th>1</th>\n",
       "      <td>10.21105/joss.01035</td>\n",
       "      <td>Sparks</td>\n",
       "    </tr>\n",
       "    <tr>\n",
       "      <th>2</th>\n",
       "      <td>10.21105/joss.01006</td>\n",
       "      <td>Granger</td>\n",
       "    </tr>\n",
       "    <tr>\n",
       "      <th>3</th>\n",
       "      <td>10.12688/f1000research.18866.2</td>\n",
       "      <td>Thang</td>\n",
       "    </tr>\n",
       "    <tr>\n",
       "      <th>4</th>\n",
       "      <td>10.1186/s12859-019-3171-0</td>\n",
       "      <td>Chen</td>\n",
       "    </tr>\n",
       "  </tbody>\n",
       "</table>\n",
       "</div>"
      ],
      "text/plain": [
       "                              DOI first_author\n",
       "0    10.1371/journal.pcbi.1004668     Blischak\n",
       "1             10.21105/joss.01035       Sparks\n",
       "2             10.21105/joss.01006      Granger\n",
       "3  10.12688/f1000research.18866.2        Thang\n",
       "4       10.1186/s12859-019-3171-0         Chen"
      ]
     },
     "execution_count": 3,
     "metadata": {},
     "output_type": "execute_result"
    }
   ],
   "source": [
    "doi_df_first_author"
   ]
  },
  {
   "cell_type": "code",
   "execution_count": 4,
   "id": "16a36af0-1fc6-43cf-9af6-29cf2ca19abb",
   "metadata": {},
   "outputs": [
    {
     "data": {
      "text/html": [
       "<div>\n",
       "<style scoped>\n",
       "    .dataframe tbody tr th:only-of-type {\n",
       "        vertical-align: middle;\n",
       "    }\n",
       "\n",
       "    .dataframe tbody tr th {\n",
       "        vertical-align: top;\n",
       "    }\n",
       "\n",
       "    .dataframe thead th {\n",
       "        text-align: right;\n",
       "    }\n",
       "</style>\n",
       "<table border=\"1\" class=\"dataframe\">\n",
       "  <thead>\n",
       "    <tr style=\"text-align: right;\">\n",
       "      <th></th>\n",
       "      <th>DOI</th>\n",
       "      <th>journal</th>\n",
       "    </tr>\n",
       "  </thead>\n",
       "  <tbody>\n",
       "    <tr>\n",
       "      <th>0</th>\n",
       "      <td>10.1371/journal.pcbi.1004668</td>\n",
       "      <td>PLoS Comput Biol</td>\n",
       "    </tr>\n",
       "    <tr>\n",
       "      <th>1</th>\n",
       "      <td>10.21105/joss.01035</td>\n",
       "      <td>JOSS</td>\n",
       "    </tr>\n",
       "    <tr>\n",
       "      <th>2</th>\n",
       "      <td>10.12688/f1000research.18866.2</td>\n",
       "      <td>F1000Res</td>\n",
       "    </tr>\n",
       "    <tr>\n",
       "      <th>3</th>\n",
       "      <td>10.1038/s41598-019-52881-4</td>\n",
       "      <td>Sci Rep</td>\n",
       "    </tr>\n",
       "    <tr>\n",
       "      <th>4</th>\n",
       "      <td>10.1186/s12859-019-3171-0</td>\n",
       "      <td>BMC Bioinformatics</td>\n",
       "    </tr>\n",
       "  </tbody>\n",
       "</table>\n",
       "</div>"
      ],
      "text/plain": [
       "                              DOI             journal\n",
       "0    10.1371/journal.pcbi.1004668    PLoS Comput Biol\n",
       "1             10.21105/joss.01035                JOSS\n",
       "2  10.12688/f1000research.18866.2            F1000Res\n",
       "3      10.1038/s41598-019-52881-4             Sci Rep\n",
       "4       10.1186/s12859-019-3171-0  BMC Bioinformatics"
      ]
     },
     "execution_count": 4,
     "metadata": {},
     "output_type": "execute_result"
    }
   ],
   "source": [
    "doi_df_journal"
   ]
  },
  {
   "cell_type": "code",
   "execution_count": 5,
   "id": "1f40f899-a190-431e-b1ed-4e5a5539beb3",
   "metadata": {},
   "outputs": [
    {
     "data": {
      "text/html": [
       "<div>\n",
       "<style scoped>\n",
       "    .dataframe tbody tr th:only-of-type {\n",
       "        vertical-align: middle;\n",
       "    }\n",
       "\n",
       "    .dataframe tbody tr th {\n",
       "        vertical-align: top;\n",
       "    }\n",
       "\n",
       "    .dataframe thead th {\n",
       "        text-align: right;\n",
       "    }\n",
       "</style>\n",
       "<table border=\"1\" class=\"dataframe\">\n",
       "  <thead>\n",
       "    <tr style=\"text-align: right;\">\n",
       "      <th></th>\n",
       "      <th>DOI</th>\n",
       "      <th>first_author</th>\n",
       "      <th>journal</th>\n",
       "    </tr>\n",
       "  </thead>\n",
       "  <tbody>\n",
       "    <tr>\n",
       "      <th>0</th>\n",
       "      <td>10.1371/journal.pcbi.1004668</td>\n",
       "      <td>Blischak</td>\n",
       "      <td>PLoS Comput Biol</td>\n",
       "    </tr>\n",
       "    <tr>\n",
       "      <th>1</th>\n",
       "      <td>10.21105/joss.01035</td>\n",
       "      <td>Sparks</td>\n",
       "      <td>JOSS</td>\n",
       "    </tr>\n",
       "    <tr>\n",
       "      <th>2</th>\n",
       "      <td>10.12688/f1000research.18866.2</td>\n",
       "      <td>Thang</td>\n",
       "      <td>F1000Res</td>\n",
       "    </tr>\n",
       "    <tr>\n",
       "      <th>3</th>\n",
       "      <td>10.1186/s12859-019-3171-0</td>\n",
       "      <td>Chen</td>\n",
       "      <td>BMC Bioinformatics</td>\n",
       "    </tr>\n",
       "  </tbody>\n",
       "</table>\n",
       "</div>"
      ],
      "text/plain": [
       "                              DOI first_author             journal\n",
       "0    10.1371/journal.pcbi.1004668     Blischak    PLoS Comput Biol\n",
       "1             10.21105/joss.01035       Sparks                JOSS\n",
       "2  10.12688/f1000research.18866.2        Thang            F1000Res\n",
       "3       10.1186/s12859-019-3171-0         Chen  BMC Bioinformatics"
      ]
     },
     "execution_count": 5,
     "metadata": {},
     "output_type": "execute_result"
    }
   ],
   "source": [
    "doi_df_first_author.merge(doi_df_journal)\n",
    "\n",
    "# in python automatisch erkannt über welche var. das matching läuft, da beide gleich heißen\n",
    "# default: inner join"
   ]
  },
  {
   "cell_type": "code",
   "execution_count": 5,
   "id": "b5798f54-138b-45c0-8a6f-672f0553b85f",
   "metadata": {},
   "outputs": [
    {
     "data": {
      "text/html": [
       "<div>\n",
       "<style scoped>\n",
       "    .dataframe tbody tr th:only-of-type {\n",
       "        vertical-align: middle;\n",
       "    }\n",
       "\n",
       "    .dataframe tbody tr th {\n",
       "        vertical-align: top;\n",
       "    }\n",
       "\n",
       "    .dataframe thead th {\n",
       "        text-align: right;\n",
       "    }\n",
       "</style>\n",
       "<table border=\"1\" class=\"dataframe\">\n",
       "  <thead>\n",
       "    <tr style=\"text-align: right;\">\n",
       "      <th></th>\n",
       "      <th>DOI</th>\n",
       "      <th>first_author</th>\n",
       "      <th>journal</th>\n",
       "    </tr>\n",
       "  </thead>\n",
       "  <tbody>\n",
       "    <tr>\n",
       "      <th>0</th>\n",
       "      <td>10.1371/journal.pcbi.1004668</td>\n",
       "      <td>Blischak</td>\n",
       "      <td>PLoS Comput Biol</td>\n",
       "    </tr>\n",
       "    <tr>\n",
       "      <th>1</th>\n",
       "      <td>10.21105/joss.01035</td>\n",
       "      <td>Sparks</td>\n",
       "      <td>JOSS</td>\n",
       "    </tr>\n",
       "    <tr>\n",
       "      <th>2</th>\n",
       "      <td>10.12688/f1000research.18866.2</td>\n",
       "      <td>Thang</td>\n",
       "      <td>F1000Res</td>\n",
       "    </tr>\n",
       "    <tr>\n",
       "      <th>3</th>\n",
       "      <td>10.1186/s12859-019-3171-0</td>\n",
       "      <td>Chen</td>\n",
       "      <td>BMC Bioinformatics</td>\n",
       "    </tr>\n",
       "  </tbody>\n",
       "</table>\n",
       "</div>"
      ],
      "text/plain": [
       "                              DOI first_author             journal\n",
       "0    10.1371/journal.pcbi.1004668     Blischak    PLoS Comput Biol\n",
       "1             10.21105/joss.01035       Sparks                JOSS\n",
       "2  10.12688/f1000research.18866.2        Thang            F1000Res\n",
       "3       10.1186/s12859-019-3171-0         Chen  BMC Bioinformatics"
      ]
     },
     "execution_count": 5,
     "metadata": {},
     "output_type": "execute_result"
    }
   ],
   "source": [
    "doi_df_first_author.merge(doi_df_journal, on=\"DOI\")\n",
    "\n",
    "# bei verschiedenen variablenbezeichnungen\n",
    "# nutzung von left_on = \"DOI\", right_on= \"doi\"\n"
   ]
  },
  {
   "cell_type": "code",
   "execution_count": 8,
   "id": "90314694-8d0a-4405-aa4c-82d45c6808e3",
   "metadata": {},
   "outputs": [
    {
     "data": {
      "text/html": [
       "<div>\n",
       "<style scoped>\n",
       "    .dataframe tbody tr th:only-of-type {\n",
       "        vertical-align: middle;\n",
       "    }\n",
       "\n",
       "    .dataframe tbody tr th {\n",
       "        vertical-align: top;\n",
       "    }\n",
       "\n",
       "    .dataframe thead th {\n",
       "        text-align: right;\n",
       "    }\n",
       "</style>\n",
       "<table border=\"1\" class=\"dataframe\">\n",
       "  <thead>\n",
       "    <tr style=\"text-align: right;\">\n",
       "      <th></th>\n",
       "      <th>DOI</th>\n",
       "      <th>first_author</th>\n",
       "      <th>journal</th>\n",
       "    </tr>\n",
       "  </thead>\n",
       "  <tbody>\n",
       "    <tr>\n",
       "      <th>0</th>\n",
       "      <td>10.1038/s41598-019-52881-4</td>\n",
       "      <td>NaN</td>\n",
       "      <td>Sci Rep</td>\n",
       "    </tr>\n",
       "    <tr>\n",
       "      <th>1</th>\n",
       "      <td>10.1186/s12859-019-3171-0</td>\n",
       "      <td>Chen</td>\n",
       "      <td>BMC Bioinformatics</td>\n",
       "    </tr>\n",
       "    <tr>\n",
       "      <th>2</th>\n",
       "      <td>10.12688/f1000research.18866.2</td>\n",
       "      <td>Thang</td>\n",
       "      <td>F1000Res</td>\n",
       "    </tr>\n",
       "    <tr>\n",
       "      <th>3</th>\n",
       "      <td>10.1371/journal.pcbi.1004668</td>\n",
       "      <td>Blischak</td>\n",
       "      <td>PLoS Comput Biol</td>\n",
       "    </tr>\n",
       "    <tr>\n",
       "      <th>4</th>\n",
       "      <td>10.21105/joss.01006</td>\n",
       "      <td>Granger</td>\n",
       "      <td>NaN</td>\n",
       "    </tr>\n",
       "    <tr>\n",
       "      <th>5</th>\n",
       "      <td>10.21105/joss.01035</td>\n",
       "      <td>Sparks</td>\n",
       "      <td>JOSS</td>\n",
       "    </tr>\n",
       "  </tbody>\n",
       "</table>\n",
       "</div>"
      ],
      "text/plain": [
       "                              DOI first_author             journal\n",
       "0      10.1038/s41598-019-52881-4          NaN             Sci Rep\n",
       "1       10.1186/s12859-019-3171-0         Chen  BMC Bioinformatics\n",
       "2  10.12688/f1000research.18866.2        Thang            F1000Res\n",
       "3    10.1371/journal.pcbi.1004668     Blischak    PLoS Comput Biol\n",
       "4             10.21105/joss.01006      Granger                 NaN\n",
       "5             10.21105/joss.01035       Sparks                JOSS"
      ]
     },
     "execution_count": 8,
     "metadata": {},
     "output_type": "execute_result"
    }
   ],
   "source": [
    "doi_df_first_author.merge(doi_df_journal, how = \"outer\")\n",
    "# right join, outer join"
   ]
  },
  {
   "cell_type": "code",
   "execution_count": 17,
   "id": "ad59009d-6420-45c9-9a42-68a36ba8a370",
   "metadata": {},
   "outputs": [
    {
     "data": {
      "text/html": [
       "<div>\n",
       "<style scoped>\n",
       "    .dataframe tbody tr th:only-of-type {\n",
       "        vertical-align: middle;\n",
       "    }\n",
       "\n",
       "    .dataframe tbody tr th {\n",
       "        vertical-align: top;\n",
       "    }\n",
       "\n",
       "    .dataframe thead th {\n",
       "        text-align: right;\n",
       "    }\n",
       "</style>\n",
       "<table border=\"1\" class=\"dataframe\">\n",
       "  <thead>\n",
       "    <tr style=\"text-align: right;\">\n",
       "      <th></th>\n",
       "      <th>DOI</th>\n",
       "      <th>first_author</th>\n",
       "      <th>journal</th>\n",
       "    </tr>\n",
       "  </thead>\n",
       "  <tbody>\n",
       "    <tr>\n",
       "      <th>0</th>\n",
       "      <td>10.1038/s41598-019-52881-4</td>\n",
       "      <td>NaN</td>\n",
       "      <td>Sci Rep</td>\n",
       "    </tr>\n",
       "    <tr>\n",
       "      <th>4</th>\n",
       "      <td>10.21105/joss.01006</td>\n",
       "      <td>Granger</td>\n",
       "      <td>NaN</td>\n",
       "    </tr>\n",
       "  </tbody>\n",
       "</table>\n",
       "</div>"
      ],
      "text/plain": [
       "                          DOI first_author  journal\n",
       "0  10.1038/s41598-019-52881-4          NaN  Sci Rep\n",
       "4         10.21105/joss.01006      Granger      NaN"
      ]
     },
     "execution_count": 17,
     "metadata": {},
     "output_type": "execute_result"
    }
   ],
   "source": [
    "outer_merge = doi_df_first_author.merge(doi_df_journal, how = \"outer\")\n",
    "outer_merge[outer_merge[\"first_author\"].isna() | outer_merge[\"journal\"].isna()]"
   ]
  },
  {
   "cell_type": "code",
   "execution_count": 11,
   "id": "4f48881e-0154-4879-982c-2def7f1ad084",
   "metadata": {},
   "outputs": [],
   "source": [
    "outer_merge = doi_df_first_author.merge(doi_df_journal, how = \"outer\")\n",
    "outer_merge_nan = outer_merge[outer_merge.isna().any(axis=1)] # axis = 1 wählt alle zeile aus die mind 1 NA haben\n",
    "# outer_merge_nan[\"first author\"].isna() | outer_merge_nan[\"journal\"].isna() "
   ]
  },
  {
   "cell_type": "code",
   "execution_count": 12,
   "id": "2d76a34e-f934-4ca1-9116-835efa105611",
   "metadata": {},
   "outputs": [
    {
     "name": "stdout",
     "output_type": "stream",
     "text": [
      "                          DOI first_author  journal\n",
      "0  10.1038/s41598-019-52881-4          NaN  Sci Rep\n",
      "4         10.21105/joss.01006      Granger      NaN\n"
     ]
    }
   ],
   "source": [
    "print(outer_merge_nan)"
   ]
  },
  {
   "cell_type": "code",
   "execution_count": 18,
   "id": "9e14c0b9-5388-4419-881e-993445ff3477",
   "metadata": {},
   "outputs": [
    {
     "name": "stdout",
     "output_type": "stream",
     "text": [
      "8\n",
      "18\n",
      "14\n",
      "2\n",
      "6\n"
     ]
    }
   ],
   "source": [
    "# list comprehension (funktionale programmierung)\n",
    "numbers = [4, 9, 7, 1, 3]\n",
    "for i in numbers: \n",
    "    print(i*2)"
   ]
  },
  {
   "cell_type": "code",
   "execution_count": 19,
   "id": "0bc8197a-1979-43ba-8d19-4e7d7f313473",
   "metadata": {},
   "outputs": [],
   "source": [
    "double_values=[]\n",
    "for i in numbers:\n",
    "    double_values.append(i*2)"
   ]
  },
  {
   "cell_type": "code",
   "execution_count": 20,
   "id": "68b026cc-05c8-4b3c-9ae4-f01e78c18b90",
   "metadata": {},
   "outputs": [
    {
     "data": {
      "text/plain": [
       "[8, 18, 14, 2, 6]"
      ]
     },
     "execution_count": 20,
     "metadata": {},
     "output_type": "execute_result"
    }
   ],
   "source": [
    "double_values"
   ]
  },
  {
   "cell_type": "code",
   "execution_count": 21,
   "id": "3574ffcf-19d5-4aae-9f02-6503344732f6",
   "metadata": {},
   "outputs": [],
   "source": [
    "double_values = [i*2 for i in numbers] \n",
    "# hier keine for-schleife, sondern list comprehension"
   ]
  },
  {
   "cell_type": "code",
   "execution_count": 22,
   "id": "6677db11-f7a8-49f9-a5c5-22644e1f025f",
   "metadata": {},
   "outputs": [
    {
     "data": {
      "text/plain": [
       "[8, 18, 14, 2, 6]"
      ]
     },
     "execution_count": 22,
     "metadata": {},
     "output_type": "execute_result"
    }
   ],
   "source": [
    "double_values"
   ]
  },
  {
   "cell_type": "code",
   "execution_count": 40,
   "id": "4a7a97af-7169-4f53-81fe-e93b007582b8",
   "metadata": {},
   "outputs": [],
   "source": [
    "# pandas apply method \n",
    "\n",
    "doi_df_first_author_2 = pd.DataFrame({\n",
    "    \"DOIs\": [\n",
    "        \"10.1371/journal.pcbi.1004668\",\n",
    "        \"10.21105/joss.01035\",\n",
    "        \"10.21105/joss.01006\",\n",
    "        \"10.12688/f1000research.18866.2\",\n",
    "        \"10.1186/s12859-019-3171-0\"],\n",
    "    \"first_author\": [\n",
    "        \"Blischak J.\",\n",
    "        \"Sparks Adam H.\",\n",
    "        \"Granger Nicolas\",\n",
    "        \"Thang\",\n",
    "        \"Chen Danze\"]})"
   ]
  },
  {
   "cell_type": "code",
   "execution_count": 24,
   "id": "14109aac-6945-41f6-85e2-b77ff754ed97",
   "metadata": {},
   "outputs": [
    {
     "data": {
      "text/plain": [
       "['Sparks', 'Adam', 'H.']"
      ]
     },
     "execution_count": 24,
     "metadata": {},
     "output_type": "execute_result"
    }
   ],
   "source": [
    "\"Sparks Adam H.\".split() # split als methode um string aufzuteilen, zurück kommt eine liste\n",
    "                            # default: split nach leerzeichen"
   ]
  },
  {
   "cell_type": "code",
   "execution_count": 25,
   "id": "3ba594ea-f14c-4c6c-aca8-cb27a68808b0",
   "metadata": {},
   "outputs": [
    {
     "data": {
      "text/plain": [
       "['Sp', 'rks Ad', 'm H.']"
      ]
     },
     "execution_count": 25,
     "metadata": {},
     "output_type": "execute_result"
    }
   ],
   "source": [
    "\"Sparks Adam H.\".split(\"a\") # nimmt \"a\" als separator, diesser teil fällt weg"
   ]
  },
  {
   "cell_type": "code",
   "execution_count": 26,
   "id": "83818833-8512-46fe-a652-e157289a5e22",
   "metadata": {},
   "outputs": [
    {
     "data": {
      "text/plain": [
       "['Sparks', 'Adam', 'H.']"
      ]
     },
     "execution_count": 26,
     "metadata": {},
     "output_type": "execute_result"
    }
   ],
   "source": [
    "\"Sparks Adam H.\".split(\" \") "
   ]
  },
  {
   "cell_type": "code",
   "execution_count": 28,
   "id": "35fd5dec-2073-4b75-9f8a-d59c451cac1e",
   "metadata": {},
   "outputs": [],
   "source": [
    "split_by_a = \"Sparks Adam H.\".split(\"a\")"
   ]
  },
  {
   "cell_type": "code",
   "execution_count": 30,
   "id": "15c8acf7-728d-4b04-ae83-eac8b4095a76",
   "metadata": {},
   "outputs": [
    {
     "data": {
      "text/plain": [
       "['Sp', 'rks Ad', 'm H.']"
      ]
     },
     "execution_count": 30,
     "metadata": {},
     "output_type": "execute_result"
    }
   ],
   "source": [
    "split_by_a"
   ]
  },
  {
   "cell_type": "code",
   "execution_count": 35,
   "id": "271f0b4d-1945-43ae-9657-9214835424ab",
   "metadata": {},
   "outputs": [],
   "source": [
    "fixed_split_by_a = [i + \"a\" for i in split_by_a]"
   ]
  },
  {
   "cell_type": "code",
   "execution_count": 36,
   "id": "4d8308db-f405-4a77-ae89-46e5f1fce3ed",
   "metadata": {},
   "outputs": [
    {
     "data": {
      "text/plain": [
       "['Spa', 'rks Ada', 'm H.a']"
      ]
     },
     "execution_count": 36,
     "metadata": {},
     "output_type": "execute_result"
    }
   ],
   "source": [
    "fixed_split_by_a # hier wird ein a am ende auch noch angehangen"
   ]
  },
  {
   "cell_type": "code",
   "execution_count": 37,
   "id": "a36e6a96-866a-48a9-988f-7169b9463cc0",
   "metadata": {},
   "outputs": [],
   "source": [
    "fixed_split_by_a = [i + \"a\" for i in split_by_a[:-1]] + [split_by_a[-1]]"
   ]
  },
  {
   "cell_type": "code",
   "execution_count": 38,
   "id": "09ba0aaf-53ea-4bac-bcf6-10284d396dee",
   "metadata": {},
   "outputs": [
    {
     "data": {
      "text/plain": [
       "['Spa', 'rks Ada', 'm H.']"
      ]
     },
     "execution_count": 38,
     "metadata": {},
     "output_type": "execute_result"
    }
   ],
   "source": [
    "fixed_split_by_a"
   ]
  },
  {
   "cell_type": "code",
   "execution_count": 41,
   "id": "b1f60471-f07f-40f0-bd51-dcdc85093cd2",
   "metadata": {},
   "outputs": [
    {
     "ename": "TypeError",
     "evalue": "Series.apply() missing 1 required positional argument: 'func'",
     "output_type": "error",
     "traceback": [
      "\u001b[0;31m---------------------------------------------------------------------------\u001b[0m",
      "\u001b[0;31mTypeError\u001b[0m                                 Traceback (most recent call last)",
      "Cell \u001b[0;32mIn[41], line 1\u001b[0m\n\u001b[0;32m----> 1\u001b[0m doi_df_first_author_2[\u001b[38;5;124m\"\u001b[39m\u001b[38;5;124mfirst_author\u001b[39m\u001b[38;5;124m\"\u001b[39m]\u001b[38;5;241m.\u001b[39mapply()\n",
      "\u001b[0;31mTypeError\u001b[0m: Series.apply() missing 1 required positional argument: 'func'"
     ]
    }
   ],
   "source": [
    "# doi_df_first_author_2[\"first_author\"].apply()"
   ]
  },
  {
   "cell_type": "code",
   "execution_count": 43,
   "id": "0d29b415-9f88-4470-8ee5-a8ec099b8d61",
   "metadata": {},
   "outputs": [],
   "source": [
    "def split_string():\n",
    "    print(\"Sparks Adam H.\".split(\" \")) # funktion hier noch ungenerisch"
   ]
  },
  {
   "cell_type": "code",
   "execution_count": 44,
   "id": "e9337c5b-4b7b-4621-8435-96d4a31f972f",
   "metadata": {},
   "outputs": [
    {
     "name": "stdout",
     "output_type": "stream",
     "text": [
      "['Sparks', 'Adam', 'H.']\n"
     ]
    }
   ],
   "source": [
    "split_string()"
   ]
  },
  {
   "cell_type": "code",
   "execution_count": 45,
   "id": "b3948297-4d86-4ad6-b9b5-7219c63de4d4",
   "metadata": {},
   "outputs": [],
   "source": [
    "def split_string(i):\n",
    "    print(i.split(\" \"))"
   ]
  },
  {
   "cell_type": "code",
   "execution_count": 46,
   "id": "c9129976-bfeb-42db-9393-b4256a2c91ec",
   "metadata": {},
   "outputs": [
    {
     "name": "stdout",
     "output_type": "stream",
     "text": [
      "['Sparks', 'Adam', 'H.']\n"
     ]
    }
   ],
   "source": [
    "split_string(\"Sparks Adam H.\")"
   ]
  },
  {
   "cell_type": "code",
   "execution_count": 47,
   "id": "e640802a-e812-42b9-9ab5-39793c4d0f33",
   "metadata": {},
   "outputs": [],
   "source": [
    "def split_string(i):\n",
    "    return i.split(\" \")"
   ]
  },
  {
   "cell_type": "code",
   "execution_count": 48,
   "id": "921de7f0-1c54-440f-948e-a69e85d46519",
   "metadata": {},
   "outputs": [],
   "source": [
    "def last_name_only(i):\n",
    "    return i.split(\" \")[0]"
   ]
  },
  {
   "cell_type": "code",
   "execution_count": 49,
   "id": "c1fef530-50c6-41c5-916c-ce30469a5343",
   "metadata": {},
   "outputs": [
    {
     "data": {
      "text/plain": [
       "'Sparks'"
      ]
     },
     "execution_count": 49,
     "metadata": {},
     "output_type": "execute_result"
    }
   ],
   "source": [
    "last_name_only(\"Sparks Adam H.\")"
   ]
  },
  {
   "cell_type": "code",
   "execution_count": 50,
   "id": "71a62615-d6d3-4ed9-8965-64545e5c680f",
   "metadata": {},
   "outputs": [
    {
     "data": {
      "text/plain": [
       "0        Blischak J.\n",
       "1     Sparks Adam H.\n",
       "2    Granger Nicolas\n",
       "3              Thang\n",
       "4         Chen Danze\n",
       "Name: first_author, dtype: object"
      ]
     },
     "execution_count": 50,
     "metadata": {},
     "output_type": "execute_result"
    }
   ],
   "source": [
    "doi_df_first_author_2[\"first_author\"]"
   ]
  },
  {
   "cell_type": "code",
   "execution_count": 51,
   "id": "dd8592db-208e-46f6-a104-ca456503603c",
   "metadata": {},
   "outputs": [
    {
     "data": {
      "text/plain": [
       "0    Blischak\n",
       "1      Sparks\n",
       "2     Granger\n",
       "3       Thang\n",
       "4        Chen\n",
       "Name: first_author, dtype: object"
      ]
     },
     "execution_count": 51,
     "metadata": {},
     "output_type": "execute_result"
    }
   ],
   "source": [
    "doi_df_first_author_2[\"first_author\"].apply(last_name_only) # apply hat als argument eine funktion, die es anwenden kann"
   ]
  },
  {
   "cell_type": "code",
   "execution_count": 52,
   "id": "89f6d29f-7c8d-474a-bd03-b12306b002f4",
   "metadata": {},
   "outputs": [],
   "source": [
    "doi_df_first_author_2[\"cleaned_first_author\"] = doi_df_first_author_2[\"first_author\"].apply(last_name_only) "
   ]
  },
  {
   "cell_type": "code",
   "execution_count": 53,
   "id": "2f616d4d-2a6a-456a-9257-f5021f5ea71c",
   "metadata": {},
   "outputs": [
    {
     "data": {
      "text/html": [
       "<div>\n",
       "<style scoped>\n",
       "    .dataframe tbody tr th:only-of-type {\n",
       "        vertical-align: middle;\n",
       "    }\n",
       "\n",
       "    .dataframe tbody tr th {\n",
       "        vertical-align: top;\n",
       "    }\n",
       "\n",
       "    .dataframe thead th {\n",
       "        text-align: right;\n",
       "    }\n",
       "</style>\n",
       "<table border=\"1\" class=\"dataframe\">\n",
       "  <thead>\n",
       "    <tr style=\"text-align: right;\">\n",
       "      <th></th>\n",
       "      <th>DOIs</th>\n",
       "      <th>first_author</th>\n",
       "      <th>cleaned_first_author</th>\n",
       "    </tr>\n",
       "  </thead>\n",
       "  <tbody>\n",
       "    <tr>\n",
       "      <th>0</th>\n",
       "      <td>10.1371/journal.pcbi.1004668</td>\n",
       "      <td>Blischak J.</td>\n",
       "      <td>Blischak</td>\n",
       "    </tr>\n",
       "    <tr>\n",
       "      <th>1</th>\n",
       "      <td>10.21105/joss.01035</td>\n",
       "      <td>Sparks Adam H.</td>\n",
       "      <td>Sparks</td>\n",
       "    </tr>\n",
       "    <tr>\n",
       "      <th>2</th>\n",
       "      <td>10.21105/joss.01006</td>\n",
       "      <td>Granger Nicolas</td>\n",
       "      <td>Granger</td>\n",
       "    </tr>\n",
       "    <tr>\n",
       "      <th>3</th>\n",
       "      <td>10.12688/f1000research.18866.2</td>\n",
       "      <td>Thang</td>\n",
       "      <td>Thang</td>\n",
       "    </tr>\n",
       "    <tr>\n",
       "      <th>4</th>\n",
       "      <td>10.1186/s12859-019-3171-0</td>\n",
       "      <td>Chen Danze</td>\n",
       "      <td>Chen</td>\n",
       "    </tr>\n",
       "  </tbody>\n",
       "</table>\n",
       "</div>"
      ],
      "text/plain": [
       "                             DOIs     first_author cleaned_first_author\n",
       "0    10.1371/journal.pcbi.1004668      Blischak J.             Blischak\n",
       "1             10.21105/joss.01035   Sparks Adam H.               Sparks\n",
       "2             10.21105/joss.01006  Granger Nicolas              Granger\n",
       "3  10.12688/f1000research.18866.2            Thang                Thang\n",
       "4       10.1186/s12859-019-3171-0       Chen Danze                 Chen"
      ]
     },
     "execution_count": 53,
     "metadata": {},
     "output_type": "execute_result"
    }
   ],
   "source": [
    "doi_df_first_author_2"
   ]
  },
  {
   "cell_type": "code",
   "execution_count": null,
   "id": "e90952cf-f9cf-42d7-b597-24b1c37006ad",
   "metadata": {},
   "outputs": [],
   "source": []
  }
 ],
 "metadata": {
  "kernelspec": {
   "display_name": "Python 3 (ipykernel)",
   "language": "python",
   "name": "python3"
  },
  "language_info": {
   "codemirror_mode": {
    "name": "ipython",
    "version": 3
   },
   "file_extension": ".py",
   "mimetype": "text/x-python",
   "name": "python",
   "nbconvert_exporter": "python",
   "pygments_lexer": "ipython3",
   "version": "3.12.7"
  }
 },
 "nbformat": 4,
 "nbformat_minor": 5
}
